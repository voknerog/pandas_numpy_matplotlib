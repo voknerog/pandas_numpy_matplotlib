{
  "nbformat": 4,
  "nbformat_minor": 0,
  "metadata": {
    "colab": {
      "provenance": [],
      "collapsed_sections": [],
      "authorship_tag": "ABX9TyN9U4n2n31vVfjB5iE2TVFv",
      "include_colab_link": true
    },
    "kernelspec": {
      "name": "python3",
      "display_name": "Python 3"
    },
    "language_info": {
      "name": "python"
    }
  },
  "cells": [
    {
      "cell_type": "markdown",
      "metadata": {
        "id": "view-in-github",
        "colab_type": "text"
      },
      "source": [
        "<a href=\"https://colab.research.google.com/github/voknerog/pandas_numpy_matplotlib/blob/main/NumPy.ipynb\" target=\"_parent\"><img src=\"https://colab.research.google.com/assets/colab-badge.svg\" alt=\"Open In Colab\"/></a>"
      ]
    },
    {
      "cell_type": "markdown",
      "source": [
        "#### 1. Import the numpy package under the name np (★☆☆)"
      ],
      "metadata": {
        "id": "3bNqOVxcrArV"
      }
    },
    {
      "cell_type": "code",
      "execution_count": 97,
      "metadata": {
        "id": "Vf6rQgZWqdJR"
      },
      "outputs": [],
      "source": [
        "import numpy as np"
      ]
    },
    {
      "cell_type": "markdown",
      "source": [
        "#### 2. Print the numpy version and the configuration (★☆☆)"
      ],
      "metadata": {
        "id": "BKuUJbUdrFcT"
      }
    },
    {
      "cell_type": "code",
      "source": [
        "print(np.__version__)"
      ],
      "metadata": {
        "colab": {
          "base_uri": "https://localhost:8080/"
        },
        "id": "LulMEiFlqljN",
        "outputId": "f78e2188-6b57-4c37-8ae9-463d9c8f6d59"
      },
      "execution_count": 98,
      "outputs": [
        {
          "output_type": "stream",
          "name": "stdout",
          "text": [
            "1.21.6\n"
          ]
        }
      ]
    },
    {
      "cell_type": "markdown",
      "source": [
        "#### 3. Create a null vector of size 10 (★☆☆)"
      ],
      "metadata": {
        "id": "AF8hZkoKrKCG"
      }
    },
    {
      "cell_type": "code",
      "source": [
        "n = 10\n",
        "a_3 = np.zeros(n)"
      ],
      "metadata": {
        "id": "sse9gqPLqner"
      },
      "execution_count": 99,
      "outputs": []
    },
    {
      "cell_type": "markdown",
      "source": [
        "#### 4. How to find the memory size of any array (★☆☆)"
      ],
      "metadata": {
        "id": "n29aGz3Drfgd"
      }
    },
    {
      "cell_type": "code",
      "source": [
        "res_3 = a_3.nbytes\n"
      ],
      "metadata": {
        "id": "Y7g0wUNpqngx"
      },
      "execution_count": 100,
      "outputs": []
    },
    {
      "cell_type": "markdown",
      "source": [
        "#### 5. How to get the documentation of the numpy add function from the command line? (★☆☆)\n"
      ],
      "metadata": {
        "id": "rCGaBihOrj7E"
      }
    },
    {
      "cell_type": "code",
      "source": [
        "res_5 = [np.info(np.add), np.info(np.array)]"
      ],
      "metadata": {
        "id": "mvLSeWykqnjP",
        "colab": {
          "base_uri": "https://localhost:8080/"
        },
        "outputId": "490d51f4-d460-4712-959a-af4b6ceced0a"
      },
      "execution_count": 101,
      "outputs": [
        {
          "output_type": "stream",
          "name": "stdout",
          "text": [
            "add(x1, x2, /, out=None, *, where=True, casting='same_kind', order='K', dtype=None, subok=True[, signature, extobj])\n",
            "\n",
            "Add arguments element-wise.\n",
            "\n",
            "Parameters\n",
            "----------\n",
            "x1, x2 : array_like\n",
            "    The arrays to be added.\n",
            "    If ``x1.shape != x2.shape``, they must be broadcastable to a common\n",
            "    shape (which becomes the shape of the output).\n",
            "out : ndarray, None, or tuple of ndarray and None, optional\n",
            "    A location into which the result is stored. If provided, it must have\n",
            "    a shape that the inputs broadcast to. If not provided or None,\n",
            "    a freshly-allocated array is returned. A tuple (possible only as a\n",
            "    keyword argument) must have length equal to the number of outputs.\n",
            "where : array_like, optional\n",
            "    This condition is broadcast over the input. At locations where the\n",
            "    condition is True, the `out` array will be set to the ufunc result.\n",
            "    Elsewhere, the `out` array will retain its original value.\n",
            "    Note that if an uninitialized `out` array is created via the default\n",
            "    ``out=None``, locations within it where the condition is False will\n",
            "    remain uninitialized.\n",
            "**kwargs\n",
            "    For other keyword-only arguments, see the\n",
            "    :ref:`ufunc docs <ufuncs.kwargs>`.\n",
            "\n",
            "Returns\n",
            "-------\n",
            "add : ndarray or scalar\n",
            "    The sum of `x1` and `x2`, element-wise.\n",
            "    This is a scalar if both `x1` and `x2` are scalars.\n",
            "\n",
            "Notes\n",
            "-----\n",
            "Equivalent to `x1` + `x2` in terms of array broadcasting.\n",
            "\n",
            "Examples\n",
            "--------\n",
            ">>> np.add(1.0, 4.0)\n",
            "5.0\n",
            ">>> x1 = np.arange(9.0).reshape((3, 3))\n",
            ">>> x2 = np.arange(3.0)\n",
            ">>> np.add(x1, x2)\n",
            "array([[  0.,   2.,   4.],\n",
            "       [  3.,   5.,   7.],\n",
            "       [  6.,   8.,  10.]])\n",
            "\n",
            "The ``+`` operator can be used as a shorthand for ``np.add`` on ndarrays.\n",
            "\n",
            ">>> x1 = np.arange(9.0).reshape((3, 3))\n",
            ">>> x2 = np.arange(3.0)\n",
            ">>> x1 + x2\n",
            "array([[ 0.,  2.,  4.],\n",
            "       [ 3.,  5.,  7.],\n",
            "       [ 6.,  8., 10.]])\n",
            "array(object, dtype=None, *, copy=True, order='K', subok=False, ndmin=0,\n",
            "      like=None)\n",
            "\n",
            "Create an array.\n",
            "\n",
            "Parameters\n",
            "----------\n",
            "object : array_like\n",
            "    An array, any object exposing the array interface, an object whose\n",
            "    __array__ method returns an array, or any (nested) sequence.\n",
            "dtype : data-type, optional\n",
            "    The desired data-type for the array.  If not given, then the type will\n",
            "    be determined as the minimum type required to hold the objects in the\n",
            "    sequence.\n",
            "copy : bool, optional\n",
            "    If true (default), then the object is copied.  Otherwise, a copy will\n",
            "    only be made if __array__ returns a copy, if obj is a nested sequence,\n",
            "    or if a copy is needed to satisfy any of the other requirements\n",
            "    (`dtype`, `order`, etc.).\n",
            "order : {'K', 'A', 'C', 'F'}, optional\n",
            "    Specify the memory layout of the array. If object is not an array, the\n",
            "    newly created array will be in C order (row major) unless 'F' is\n",
            "    specified, in which case it will be in Fortran order (column major).\n",
            "    If object is an array the following holds.\n",
            "\n",
            "    ===== ========= ===================================================\n",
            "    order  no copy                     copy=True\n",
            "    ===== ========= ===================================================\n",
            "    'K'   unchanged F & C order preserved, otherwise most similar order\n",
            "    'A'   unchanged F order if input is F and not C, otherwise C order\n",
            "    'C'   C order   C order\n",
            "    'F'   F order   F order\n",
            "    ===== ========= ===================================================\n",
            "\n",
            "    When ``copy=False`` and a copy is made for other reasons, the result is\n",
            "    the same as if ``copy=True``, with some exceptions for 'A', see the\n",
            "    Notes section. The default order is 'K'.\n",
            "subok : bool, optional\n",
            "    If True, then sub-classes will be passed-through, otherwise\n",
            "    the returned array will be forced to be a base-class array (default).\n",
            "ndmin : int, optional\n",
            "    Specifies the minimum number of dimensions that the resulting\n",
            "    array should have.  Ones will be pre-pended to the shape as\n",
            "    needed to meet this requirement.\n",
            "like : array_like\n",
            "    Reference object to allow the creation of arrays which are not\n",
            "    NumPy arrays. If an array-like passed in as ``like`` supports\n",
            "    the ``__array_function__`` protocol, the result will be defined\n",
            "    by it. In this case, it ensures the creation of an array object\n",
            "    compatible with that passed in via this argument.\n",
            "\n",
            "    .. versionadded:: 1.20.0\n",
            "\n",
            "Returns\n",
            "-------\n",
            "out : ndarray\n",
            "    An array object satisfying the specified requirements.\n",
            "\n",
            "See Also\n",
            "--------\n",
            "empty_like : Return an empty array with shape and type of input.\n",
            "ones_like : Return an array of ones with shape and type of input.\n",
            "zeros_like : Return an array of zeros with shape and type of input.\n",
            "full_like : Return a new array with shape of input filled with value.\n",
            "empty : Return a new uninitialized array.\n",
            "ones : Return a new array setting values to one.\n",
            "zeros : Return a new array setting values to zero.\n",
            "full : Return a new array of given shape filled with value.\n",
            "\n",
            "\n",
            "Notes\n",
            "-----\n",
            "When order is 'A' and `object` is an array in neither 'C' nor 'F' order,\n",
            "and a copy is forced by a change in dtype, then the order of the result is\n",
            "not necessarily 'C' as expected. This is likely a bug.\n",
            "\n",
            "Examples\n",
            "--------\n",
            ">>> np.array([1, 2, 3])\n",
            "array([1, 2, 3])\n",
            "\n",
            "Upcasting:\n",
            "\n",
            ">>> np.array([1, 2, 3.0])\n",
            "array([ 1.,  2.,  3.])\n",
            "\n",
            "More than one dimension:\n",
            "\n",
            ">>> np.array([[1, 2], [3, 4]])\n",
            "array([[1, 2],\n",
            "       [3, 4]])\n",
            "\n",
            "Minimum dimensions 2:\n",
            "\n",
            ">>> np.array([1, 2, 3], ndmin=2)\n",
            "array([[1, 2, 3]])\n",
            "\n",
            "Type provided:\n",
            "\n",
            ">>> np.array([1, 2, 3], dtype=complex)\n",
            "array([ 1.+0.j,  2.+0.j,  3.+0.j])\n",
            "\n",
            "Data-type consisting of more than one element:\n",
            "\n",
            ">>> x = np.array([(1,2),(3,4)],dtype=[('a','<i4'),('b','<i4')])\n",
            ">>> x['a']\n",
            "array([1, 3])\n",
            "\n",
            "Creating an array from sub-classes:\n",
            "\n",
            ">>> np.array(np.mat('1 2; 3 4'))\n",
            "array([[1, 2],\n",
            "       [3, 4]])\n",
            "\n",
            ">>> np.array(np.mat('1 2; 3 4'), subok=True)\n",
            "matrix([[1, 2],\n",
            "        [3, 4]])\n"
          ]
        }
      ]
    },
    {
      "cell_type": "markdown",
      "source": [
        "#### 6. Create a null vector of size 10 but the fifth value which is 1 (★☆☆)"
      ],
      "metadata": {
        "id": "lueMQo2frq8y"
      }
    },
    {
      "cell_type": "code",
      "source": [
        "n = 10\n",
        "a_6 = np.zeros(n)\n",
        "a_6[4] = 1"
      ],
      "metadata": {
        "id": "FtajVw0sqnlX"
      },
      "execution_count": 102,
      "outputs": []
    },
    {
      "cell_type": "markdown",
      "source": [
        "#### 7. Create a vector with values ranging from 10 to 49 (★☆☆)"
      ],
      "metadata": {
        "id": "F_V8PCpisJDm"
      }
    },
    {
      "cell_type": "code",
      "source": [
        "n = 10\n",
        "m = 49\n",
        "a_7 = np.arange(n, m+1)\n"
      ],
      "metadata": {
        "id": "PIVPd8Yiqnne"
      },
      "execution_count": 103,
      "outputs": []
    },
    {
      "cell_type": "markdown",
      "source": [
        "#### 8. Reverse a vector (first element becomes last) (★☆☆)\n"
      ],
      "metadata": {
        "id": "TE0NE5sssfFt"
      }
    },
    {
      "cell_type": "code",
      "source": [
        "a_8 = a_7[::-1]"
      ],
      "metadata": {
        "id": "p0UT8O3Iqnpo"
      },
      "execution_count": 104,
      "outputs": []
    },
    {
      "cell_type": "markdown",
      "source": [
        "#### 9. Create a 3x3 matrix with values ranging from 0 to 8 (★☆☆)"
      ],
      "metadata": {
        "id": "XNwWA8x7sm8Y"
      }
    },
    {
      "cell_type": "code",
      "source": [
        "a_9 = np.arange(9)\n",
        "a_9 = np.reshape(a_9, (3, 3))\n",
        "a_9"
      ],
      "metadata": {
        "colab": {
          "base_uri": "https://localhost:8080/"
        },
        "id": "R4SdfUu3qnsB",
        "outputId": "f66c9181-bff0-40f3-b830-5a9f0732f03e"
      },
      "execution_count": 105,
      "outputs": [
        {
          "output_type": "execute_result",
          "data": {
            "text/plain": [
              "array([[0, 1, 2],\n",
              "       [3, 4, 5],\n",
              "       [6, 7, 8]])"
            ]
          },
          "metadata": {},
          "execution_count": 105
        }
      ]
    },
    {
      "cell_type": "markdown",
      "source": [
        "#### 10. Find indices of non-zero elements from [1,2,0,0,4,0] (★☆☆)"
      ],
      "metadata": {
        "id": "TrD_VQr2tD48"
      }
    },
    {
      "cell_type": "code",
      "source": [
        "a_10 = [1,2,0,0,4,0]\n",
        "res_10 = np.nonzero(a_10)\n",
        "res_10[0]\n"
      ],
      "metadata": {
        "colab": {
          "base_uri": "https://localhost:8080/"
        },
        "id": "T6L9cUQTqntv",
        "outputId": "a02f3b28-ae16-4481-9b98-d5f98874f6e8"
      },
      "execution_count": 106,
      "outputs": [
        {
          "output_type": "execute_result",
          "data": {
            "text/plain": [
              "array([0, 1, 4])"
            ]
          },
          "metadata": {},
          "execution_count": 106
        }
      ]
    },
    {
      "cell_type": "markdown",
      "source": [
        "#### 11. Create a 3x3 identity matrix (★☆☆)"
      ],
      "metadata": {
        "id": "CchswCWJvQyy"
      }
    },
    {
      "cell_type": "code",
      "source": [
        "a_11 = np.identity(3)\n",
        "a_11"
      ],
      "metadata": {
        "colab": {
          "base_uri": "https://localhost:8080/"
        },
        "id": "8_ccIfknu8Nb",
        "outputId": "9a0f9201-0648-4a51-aff4-039029306e8a"
      },
      "execution_count": 107,
      "outputs": [
        {
          "output_type": "execute_result",
          "data": {
            "text/plain": [
              "array([[1., 0., 0.],\n",
              "       [0., 1., 0.],\n",
              "       [0., 0., 1.]])"
            ]
          },
          "metadata": {},
          "execution_count": 107
        }
      ]
    },
    {
      "cell_type": "markdown",
      "source": [
        "#### 12. Create a 3x3x3 array with random values (★☆☆)"
      ],
      "metadata": {
        "id": "hdu3dnpixp8k"
      }
    },
    {
      "cell_type": "code",
      "source": [
        "a_12 = np.random.random((3,3,3))\n",
        "a_12"
      ],
      "metadata": {
        "id": "kMAmjwMFxqaL",
        "colab": {
          "base_uri": "https://localhost:8080/"
        },
        "outputId": "f18926c4-66ae-4b36-c2b6-406b45c552b9"
      },
      "execution_count": 108,
      "outputs": [
        {
          "output_type": "execute_result",
          "data": {
            "text/plain": [
              "array([[[0.92077734, 0.85581206, 0.15864873],\n",
              "        [0.87984516, 0.32998114, 0.41261662],\n",
              "        [0.42327217, 0.97195255, 0.41963926]],\n",
              "\n",
              "       [[0.77136746, 0.503171  , 0.51918183],\n",
              "        [0.6046733 , 0.4129633 , 0.72623609],\n",
              "        [0.39973817, 0.23041503, 0.94545123]],\n",
              "\n",
              "       [[0.75190358, 0.15492849, 0.95901072],\n",
              "        [0.16777084, 0.64530152, 0.25550062],\n",
              "        [0.2433472 , 0.3150653 , 0.37190616]]])"
            ]
          },
          "metadata": {},
          "execution_count": 108
        }
      ]
    },
    {
      "cell_type": "markdown",
      "source": [
        "#### 13. Create a 10x10 array with random values and find the minimum and maximum values (★☆☆)"
      ],
      "metadata": {
        "id": "4p524QQRyZiL"
      }
    },
    {
      "cell_type": "code",
      "source": [
        "a_13 = np.random.random((10,10))\n",
        "f'min: {np.min(a_13)}, max: {np.max(a_13)}'"
      ],
      "metadata": {
        "colab": {
          "base_uri": "https://localhost:8080/",
          "height": 35
        },
        "id": "rDxhEQ-nyah5",
        "outputId": "872016ee-830c-4cf3-b7f2-947d1fd1624a"
      },
      "execution_count": 109,
      "outputs": [
        {
          "output_type": "execute_result",
          "data": {
            "text/plain": [
              "'min: 0.0007102023836607074, max: 0.9977397185978809'"
            ],
            "application/vnd.google.colaboratory.intrinsic+json": {
              "type": "string"
            }
          },
          "metadata": {},
          "execution_count": 109
        }
      ]
    },
    {
      "cell_type": "markdown",
      "source": [
        "#### 14. Create a random vector of size 30 and find the mean value (★☆☆)"
      ],
      "metadata": {
        "id": "LChad5YNy7ql"
      }
    },
    {
      "cell_type": "code",
      "source": [
        "a_14 = np.random.random(14)\n",
        "a_14.mean()"
      ],
      "metadata": {
        "colab": {
          "base_uri": "https://localhost:8080/"
        },
        "id": "HJupwBpey833",
        "outputId": "6d70c325-a09c-4e01-f01d-3820398d4c46"
      },
      "execution_count": 110,
      "outputs": [
        {
          "output_type": "execute_result",
          "data": {
            "text/plain": [
              "0.5282943966623107"
            ]
          },
          "metadata": {},
          "execution_count": 110
        }
      ]
    },
    {
      "cell_type": "markdown",
      "source": [
        "#### 15. Create a 2d array with 1 on the border and 0 inside (★☆☆)"
      ],
      "metadata": {
        "id": "YF-gil6kzJQZ"
      }
    },
    {
      "cell_type": "code",
      "source": [
        "a_15 = np.zeros((10,10))\n",
        "a_15[0] = 1\n",
        "a_15[-1] = 1\n",
        "a_15[:, 0] = 1\n",
        "a_15[:, -1] = 1\n",
        "a_15"
      ],
      "metadata": {
        "colab": {
          "base_uri": "https://localhost:8080/"
        },
        "id": "4Z04q1vqzRkU",
        "outputId": "dac9a88d-edad-487c-d4c9-2562ef416baf"
      },
      "execution_count": 111,
      "outputs": [
        {
          "output_type": "execute_result",
          "data": {
            "text/plain": [
              "array([[1., 1., 1., 1., 1., 1., 1., 1., 1., 1.],\n",
              "       [1., 0., 0., 0., 0., 0., 0., 0., 0., 1.],\n",
              "       [1., 0., 0., 0., 0., 0., 0., 0., 0., 1.],\n",
              "       [1., 0., 0., 0., 0., 0., 0., 0., 0., 1.],\n",
              "       [1., 0., 0., 0., 0., 0., 0., 0., 0., 1.],\n",
              "       [1., 0., 0., 0., 0., 0., 0., 0., 0., 1.],\n",
              "       [1., 0., 0., 0., 0., 0., 0., 0., 0., 1.],\n",
              "       [1., 0., 0., 0., 0., 0., 0., 0., 0., 1.],\n",
              "       [1., 0., 0., 0., 0., 0., 0., 0., 0., 1.],\n",
              "       [1., 1., 1., 1., 1., 1., 1., 1., 1., 1.]])"
            ]
          },
          "metadata": {},
          "execution_count": 111
        }
      ]
    },
    {
      "cell_type": "markdown",
      "source": [
        "#### 16. How to add a border (filled with 0's) around an existing array? (★☆☆)"
      ],
      "metadata": {
        "id": "kphVJgU90tIc"
      }
    },
    {
      "cell_type": "code",
      "source": [
        "a_16 = np.pad(a_15,(1,1), mode='constant')\n",
        "a_16"
      ],
      "metadata": {
        "colab": {
          "base_uri": "https://localhost:8080/"
        },
        "id": "l3q2DMYC0wUX",
        "outputId": "911c3f97-2727-4d69-f602-d2432db587e8"
      },
      "execution_count": 112,
      "outputs": [
        {
          "output_type": "execute_result",
          "data": {
            "text/plain": [
              "array([[0., 0., 0., 0., 0., 0., 0., 0., 0., 0., 0., 0.],\n",
              "       [0., 1., 1., 1., 1., 1., 1., 1., 1., 1., 1., 0.],\n",
              "       [0., 1., 0., 0., 0., 0., 0., 0., 0., 0., 1., 0.],\n",
              "       [0., 1., 0., 0., 0., 0., 0., 0., 0., 0., 1., 0.],\n",
              "       [0., 1., 0., 0., 0., 0., 0., 0., 0., 0., 1., 0.],\n",
              "       [0., 1., 0., 0., 0., 0., 0., 0., 0., 0., 1., 0.],\n",
              "       [0., 1., 0., 0., 0., 0., 0., 0., 0., 0., 1., 0.],\n",
              "       [0., 1., 0., 0., 0., 0., 0., 0., 0., 0., 1., 0.],\n",
              "       [0., 1., 0., 0., 0., 0., 0., 0., 0., 0., 1., 0.],\n",
              "       [0., 1., 0., 0., 0., 0., 0., 0., 0., 0., 1., 0.],\n",
              "       [0., 1., 1., 1., 1., 1., 1., 1., 1., 1., 1., 0.],\n",
              "       [0., 0., 0., 0., 0., 0., 0., 0., 0., 0., 0., 0.]])"
            ]
          },
          "metadata": {},
          "execution_count": 112
        }
      ]
    },
    {
      "cell_type": "markdown",
      "source": [
        "#### 17. What is the result of the following expression? (★☆☆)<br>\n",
        "0 * np.nan<br>\n",
        "np.nan == np.nan<br>\n",
        "np.inf > np.nan<br>\n",
        "np.nan - np.nan<br>\n",
        "np.nan in set([np.nan])<br>\n",
        " 0.3 == 3 * 0.1<br>"
      ],
      "metadata": {
        "id": "TP-ivD372YMZ"
      }
    },
    {
      "cell_type": "code",
      "source": [
        "0 * np.nan\n",
        "np.nan == np.nan\n",
        "np.inf > np.nan\n",
        "np.nan - np.nan\n",
        "np.nan in set([np.nan])\n",
        "0.3 == 3 * 0.1"
      ],
      "metadata": {
        "colab": {
          "base_uri": "https://localhost:8080/"
        },
        "id": "aOf7otCX2waJ",
        "outputId": "4d41e30d-43ce-4a51-f409-8b1b254bf182"
      },
      "execution_count": 113,
      "outputs": [
        {
          "output_type": "execute_result",
          "data": {
            "text/plain": [
              "False"
            ]
          },
          "metadata": {},
          "execution_count": 113
        }
      ]
    },
    {
      "cell_type": "markdown",
      "source": [
        "#### 18. Create a 5x5 matrix with values 1,2,3,4 just below the diagonal (★☆☆)"
      ],
      "metadata": {
        "id": "zsbJUhBV28_w"
      }
    },
    {
      "cell_type": "code",
      "source": [
        "a_18 = np.diagflat([1, 2, 3, 4], -1)\n",
        "a_18"
      ],
      "metadata": {
        "colab": {
          "base_uri": "https://localhost:8080/"
        },
        "id": "WyYNn2FK2btr",
        "outputId": "5e49d759-fc59-4b6d-98e5-7827bda30ba3"
      },
      "execution_count": 114,
      "outputs": [
        {
          "output_type": "execute_result",
          "data": {
            "text/plain": [
              "array([[0, 0, 0, 0, 0],\n",
              "       [1, 0, 0, 0, 0],\n",
              "       [0, 2, 0, 0, 0],\n",
              "       [0, 0, 3, 0, 0],\n",
              "       [0, 0, 0, 4, 0]])"
            ]
          },
          "metadata": {},
          "execution_count": 114
        }
      ]
    },
    {
      "cell_type": "markdown",
      "source": [
        "#### 19. Create a 8x8 matrix and fill it with a checkerboard pattern (★☆☆)"
      ],
      "metadata": {
        "id": "TKEGdAvA37AK"
      }
    },
    {
      "cell_type": "code",
      "source": [
        "a_19 = np.ones((8, 8))\n",
        "a_19[::2, ::2] = 0\n",
        "a_19[1::2,1::2] = 0\n",
        "a_19"
      ],
      "metadata": {
        "colab": {
          "base_uri": "https://localhost:8080/"
        },
        "id": "5Kk1LR-036UY",
        "outputId": "a360a4f4-d6f9-429c-956c-38dbe7168f5c"
      },
      "execution_count": 115,
      "outputs": [
        {
          "output_type": "execute_result",
          "data": {
            "text/plain": [
              "array([[0., 1., 0., 1., 0., 1., 0., 1.],\n",
              "       [1., 0., 1., 0., 1., 0., 1., 0.],\n",
              "       [0., 1., 0., 1., 0., 1., 0., 1.],\n",
              "       [1., 0., 1., 0., 1., 0., 1., 0.],\n",
              "       [0., 1., 0., 1., 0., 1., 0., 1.],\n",
              "       [1., 0., 1., 0., 1., 0., 1., 0.],\n",
              "       [0., 1., 0., 1., 0., 1., 0., 1.],\n",
              "       [1., 0., 1., 0., 1., 0., 1., 0.]])"
            ]
          },
          "metadata": {},
          "execution_count": 115
        }
      ]
    },
    {
      "cell_type": "markdown",
      "source": [
        "#### 20. Consider a (6,7,8) shape array, what is the index (x,y,z) of the 100th element? (★☆☆)\n"
      ],
      "metadata": {
        "id": "QK6J13Ny4aBy"
      }
    },
    {
      "cell_type": "code",
      "source": [
        "a_20 = np.array((6,7,8))\n",
        "res_20 = np.unravel_index(100, (6, 7, 8))\n",
        "res_20"
      ],
      "metadata": {
        "colab": {
          "base_uri": "https://localhost:8080/"
        },
        "id": "llRfse-Q4cH_",
        "outputId": "4ee10a74-dce8-4f1d-b2d8-afe263504f33"
      },
      "execution_count": 116,
      "outputs": [
        {
          "output_type": "execute_result",
          "data": {
            "text/plain": [
              "(1, 5, 4)"
            ]
          },
          "metadata": {},
          "execution_count": 116
        }
      ]
    },
    {
      "cell_type": "markdown",
      "source": [
        "#### 21. Create a checkerboard 8x8 matrix using the tile function (★☆☆)\n"
      ],
      "metadata": {
        "id": "HKWOvWPtZf93"
      }
    },
    {
      "cell_type": "code",
      "source": [
        "a_21 = np.tile([[0, 1],[1, 0]], (4, 4))\n",
        "a_21"
      ],
      "metadata": {
        "colab": {
          "base_uri": "https://localhost:8080/"
        },
        "id": "6GEWLJVLZgh6",
        "outputId": "adc954f1-a338-49be-bf85-d5d0dfb3948b"
      },
      "execution_count": 117,
      "outputs": [
        {
          "output_type": "execute_result",
          "data": {
            "text/plain": [
              "array([[0, 1, 0, 1, 0, 1, 0, 1],\n",
              "       [1, 0, 1, 0, 1, 0, 1, 0],\n",
              "       [0, 1, 0, 1, 0, 1, 0, 1],\n",
              "       [1, 0, 1, 0, 1, 0, 1, 0],\n",
              "       [0, 1, 0, 1, 0, 1, 0, 1],\n",
              "       [1, 0, 1, 0, 1, 0, 1, 0],\n",
              "       [0, 1, 0, 1, 0, 1, 0, 1],\n",
              "       [1, 0, 1, 0, 1, 0, 1, 0]])"
            ]
          },
          "metadata": {},
          "execution_count": 117
        }
      ]
    },
    {
      "cell_type": "markdown",
      "source": [
        "#### 22. Normalize a 5x5 random matrix (★☆☆)\n"
      ],
      "metadata": {
        "id": "NPfgblpsZ1ye"
      }
    },
    {
      "cell_type": "code",
      "source": [
        "a_22 = np.random.random((5, 5))\n",
        "res_22 = np.around((a_22 - np.mean(a_22)) / np.std(a_22), decimals=2)\n",
        "res_22"
      ],
      "metadata": {
        "colab": {
          "base_uri": "https://localhost:8080/"
        },
        "id": "u_pvQQMNZ2uT",
        "outputId": "aad025d0-d99b-4192-8204-d1732fcc4127"
      },
      "execution_count": 118,
      "outputs": [
        {
          "output_type": "execute_result",
          "data": {
            "text/plain": [
              "array([[ 0.85,  1.04,  0.89,  0.75, -1.29],\n",
              "       [-1.2 ,  0.9 , -0.35,  0.51,  0.55],\n",
              "       [ 0.49,  0.82,  1.32, -1.32, -1.44],\n",
              "       [-0.4 , -1.02, -1.71,  0.09, -0.84],\n",
              "       [-0.03, -1.66,  1.11,  1.14,  0.8 ]])"
            ]
          },
          "metadata": {},
          "execution_count": 118
        }
      ]
    },
    {
      "cell_type": "markdown",
      "source": [
        "#### 23. Create a custom dtype that describes a color as four unsigned bytes (RGBA) (★☆☆)"
      ],
      "metadata": {
        "id": "BcZfaoEIapQw"
      }
    },
    {
      "cell_type": "code",
      "source": [
        "a_23 = np.dtype([(\"r\", np.ubyte, 1), (\"g\", np.ubyte, 1), (\"b\", np.ubyte, 1), (\"a\", np.ubyte, 1)])\n",
        "a_23"
      ],
      "metadata": {
        "colab": {
          "base_uri": "https://localhost:8080/"
        },
        "id": "IL4QPzxcarqu",
        "outputId": "53cbd396-ed83-4336-cf8f-064c35e2be62"
      },
      "execution_count": 119,
      "outputs": [
        {
          "output_type": "stream",
          "name": "stderr",
          "text": [
            "/usr/local/lib/python3.7/dist-packages/ipykernel_launcher.py:1: FutureWarning: Passing (type, 1) or '1type' as a synonym of type is deprecated; in a future version of numpy, it will be understood as (type, (1,)) / '(1,)type'.\n",
            "  \"\"\"Entry point for launching an IPython kernel.\n"
          ]
        },
        {
          "output_type": "execute_result",
          "data": {
            "text/plain": [
              "dtype([('r', 'u1'), ('g', 'u1'), ('b', 'u1'), ('a', 'u1')])"
            ]
          },
          "metadata": {},
          "execution_count": 119
        }
      ]
    },
    {
      "cell_type": "markdown",
      "source": [
        "#### 24. Multiply a 5x3 matrix by a 3x2 matrix (real matrix product) (★☆☆)\n"
      ],
      "metadata": {
        "id": "PPPkEv-xceIH"
      }
    },
    {
      "cell_type": "code",
      "source": [
        "A = np.random.random((5, 3))\n",
        "B = np.random.random((3, 2))\n",
        "a_24 = np.dot(A, B)\n",
        "a_24"
      ],
      "metadata": {
        "colab": {
          "base_uri": "https://localhost:8080/"
        },
        "id": "9uCR0glMceqW",
        "outputId": "c2384167-2aa8-42c7-f2b0-3fea5d34cf02"
      },
      "execution_count": 120,
      "outputs": [
        {
          "output_type": "execute_result",
          "data": {
            "text/plain": [
              "array([[1.79818234, 1.20445918],\n",
              "       [0.75053174, 0.57381461],\n",
              "       [0.37252612, 0.43381983],\n",
              "       [0.58420032, 0.36403973],\n",
              "       [1.67369646, 1.07240834]])"
            ]
          },
          "metadata": {},
          "execution_count": 120
        }
      ]
    },
    {
      "cell_type": "markdown",
      "source": [
        "#### 25. Given a 1D array, negate all elements which are between 3 and 8, in place. (★☆☆)\n"
      ],
      "metadata": {
        "id": "YspuT-q7c5fc"
      }
    },
    {
      "cell_type": "code",
      "source": [
        "a_25 = np.random.random((10)) * 10\n",
        "a_25 = np.where((a_25 > 7) | (a_25 < 4), a_25, a_25 * -1)\n",
        "a_25"
      ],
      "metadata": {
        "colab": {
          "base_uri": "https://localhost:8080/"
        },
        "id": "Z7QtQyzqc7BT",
        "outputId": "e8e0c580-de0e-49d7-9c71-3686e35f51c6"
      },
      "execution_count": 121,
      "outputs": [
        {
          "output_type": "execute_result",
          "data": {
            "text/plain": [
              "array([8.76513115, 3.16959176, 8.88758363, 3.52930764, 3.59217144,\n",
              "       0.2782493 , 8.45982149, 1.29666388, 3.72185808, 7.71982692])"
            ]
          },
          "metadata": {},
          "execution_count": 121
        }
      ]
    },
    {
      "cell_type": "markdown",
      "source": [
        "#### 26. What is the output of the following script? (★☆☆)\n"
      ],
      "metadata": {
        "id": "At24nP_aeNau"
      }
    },
    {
      "cell_type": "code",
      "source": [
        "print(sum(range(5),-1))\n",
        "from numpy import *\n",
        "print(sum(range(5),-1))"
      ],
      "metadata": {
        "colab": {
          "base_uri": "https://localhost:8080/"
        },
        "id": "01UL_hCReQbg",
        "outputId": "21f21670-f9aa-4379-a06b-70dd6454b23f"
      },
      "execution_count": 122,
      "outputs": [
        {
          "output_type": "stream",
          "name": "stdout",
          "text": [
            "10\n",
            "10\n"
          ]
        }
      ]
    },
    {
      "cell_type": "markdown",
      "source": [
        "#### 27. Consider an integer vector Z, which of these expressions are legal? (★☆☆)\n",
        "* Z**Z\n",
        "* 2 << Z >> 2\n",
        "* Z <- Z\n",
        "* 1j*Z\n",
        "* Z/1/1\n",
        "* Z<Z>Z"
      ],
      "metadata": {
        "id": "E_zBEcNoehjj"
      }
    },
    {
      "cell_type": "markdown",
      "source": [
        "#### 28. What are the result of the following expressions?\n",
        "\n",
        "* print(np.array(0) / np.array(0))\n",
        "* print(np.array(0) // np.array(0))\n",
        "* print(np.array([np.nan]).astype(int).astype(float))"
      ],
      "metadata": {
        "id": "4_KBSNi1esOT"
      }
    },
    {
      "cell_type": "markdown",
      "source": [
        "#### 29. How to round away from zero a float array ? (★☆☆)"
      ],
      "metadata": {
        "id": "ybr5uiFZfCA0"
      }
    },
    {
      "cell_type": "code",
      "source": [
        "a_29 = a_25\n",
        "a_29 = np.where(a_29 > 0, a_29, np.floor(a_29))\n",
        "a_29 = np.where(a_29 < 0, a_29, np.ceil(a_29))\n",
        "a_29"
      ],
      "metadata": {
        "colab": {
          "base_uri": "https://localhost:8080/"
        },
        "id": "eZ22p8f_elHi",
        "outputId": "c181c95c-c006-4d0a-e567-1f8816160e20"
      },
      "execution_count": 123,
      "outputs": [
        {
          "output_type": "execute_result",
          "data": {
            "text/plain": [
              "array([9., 4., 9., 4., 4., 1., 9., 2., 4., 8.])"
            ]
          },
          "metadata": {},
          "execution_count": 123
        }
      ]
    },
    {
      "cell_type": "markdown",
      "source": [
        "#### 30. How to find common values between two arrays? (★☆☆)"
      ],
      "metadata": {
        "id": "tbxHcMDtgFui"
      }
    },
    {
      "cell_type": "code",
      "source": [
        "a_30 = np.intersect1d(a_29, a_25)\n",
        "a_30"
      ],
      "metadata": {
        "colab": {
          "base_uri": "https://localhost:8080/"
        },
        "id": "vCvvvMBxgKW9",
        "outputId": "aaaa1514-56e4-4eb6-be55-d1aa4fbb089b"
      },
      "execution_count": 124,
      "outputs": [
        {
          "output_type": "execute_result",
          "data": {
            "text/plain": [
              "array([], dtype=float64)"
            ]
          },
          "metadata": {},
          "execution_count": 124
        }
      ]
    },
    {
      "cell_type": "markdown",
      "source": [
        "#### 31. How to ignore all numpy warnings (not recommended)? (★☆☆)\n"
      ],
      "metadata": {
        "id": "KdpqaDrvg2A7"
      }
    },
    {
      "cell_type": "code",
      "source": [
        "# np.seterr(all='ignore')"
      ],
      "metadata": {
        "id": "-pjKejnLg-md"
      },
      "execution_count": 125,
      "outputs": []
    },
    {
      "cell_type": "markdown",
      "source": [
        "#### 32. Is the following expressions true? (★☆☆)"
      ],
      "metadata": {
        "id": "kOnxltedg5ST"
      }
    },
    {
      "cell_type": "code",
      "source": [
        "np.sqrt(-1) == np.emath.sqrt(-1)"
      ],
      "metadata": {
        "colab": {
          "base_uri": "https://localhost:8080/"
        },
        "id": "aXmrfh0ehGXA",
        "outputId": "d546b39b-15a7-4c03-a54f-6d38d8d66bdf"
      },
      "execution_count": 126,
      "outputs": [
        {
          "output_type": "stream",
          "name": "stderr",
          "text": [
            "/usr/local/lib/python3.7/dist-packages/ipykernel_launcher.py:1: RuntimeWarning: invalid value encountered in sqrt\n",
            "  \"\"\"Entry point for launching an IPython kernel.\n"
          ]
        },
        {
          "output_type": "execute_result",
          "data": {
            "text/plain": [
              "False"
            ]
          },
          "metadata": {},
          "execution_count": 126
        }
      ]
    },
    {
      "cell_type": "markdown",
      "source": [
        "####  33. How to get the dates of yesterday, today and tomorrow? (★☆☆)"
      ],
      "metadata": {
        "id": "Wabd3BxEhL4Q"
      }
    },
    {
      "cell_type": "code",
      "source": [
        "print(np.datetime64('today'))\n",
        "print(np.datetime64('today') - 1)\n",
        "print(np.datetime64('today') + 1)\n"
      ],
      "metadata": {
        "colab": {
          "base_uri": "https://localhost:8080/"
        },
        "id": "HqZyryodhQqh",
        "outputId": "4388dc4f-a839-43e1-fb80-7bd87f21ffc1"
      },
      "execution_count": 127,
      "outputs": [
        {
          "output_type": "stream",
          "name": "stdout",
          "text": [
            "2022-10-26\n",
            "2022-10-25\n",
            "2022-10-27\n"
          ]
        }
      ]
    },
    {
      "cell_type": "markdown",
      "source": [
        "#### 34. How to get all the dates corresponding to the month of July 2016? (★★☆)"
      ],
      "metadata": {
        "id": "tMlbZ6sYhle5"
      }
    },
    {
      "cell_type": "code",
      "source": [
        "a_34 = np.arange('2016-07', '2016-08', dtype='datetime64[D]')\n",
        "a_34"
      ],
      "metadata": {
        "colab": {
          "base_uri": "https://localhost:8080/"
        },
        "id": "bulcajc5hqy7",
        "outputId": "085bdaf1-616d-43c3-ee8a-96cdc37ef9f4"
      },
      "execution_count": 128,
      "outputs": [
        {
          "output_type": "execute_result",
          "data": {
            "text/plain": [
              "array(['2016-07-01', '2016-07-02', '2016-07-03', '2016-07-04',\n",
              "       '2016-07-05', '2016-07-06', '2016-07-07', '2016-07-08',\n",
              "       '2016-07-09', '2016-07-10', '2016-07-11', '2016-07-12',\n",
              "       '2016-07-13', '2016-07-14', '2016-07-15', '2016-07-16',\n",
              "       '2016-07-17', '2016-07-18', '2016-07-19', '2016-07-20',\n",
              "       '2016-07-21', '2016-07-22', '2016-07-23', '2016-07-24',\n",
              "       '2016-07-25', '2016-07-26', '2016-07-27', '2016-07-28',\n",
              "       '2016-07-29', '2016-07-30', '2016-07-31'], dtype='datetime64[D]')"
            ]
          },
          "metadata": {},
          "execution_count": 128
        }
      ]
    },
    {
      "cell_type": "markdown",
      "source": [
        "#### 35. How to compute ((A+B)*(-A/2)) in place (without copy)? (★★☆)"
      ],
      "metadata": {
        "id": "KzX1WgloiBgA"
      }
    },
    {
      "cell_type": "code",
      "source": [
        "A = np.random.random((10)) * 9\n",
        "B = np.random.random((10)) * 10\n",
        "np.add(A, B, out=B)\n",
        "np.divide(A,2,out=A)\n",
        "np.negative(A,out=A)\n",
        "np.multiply(A,B,out=A)"
      ],
      "metadata": {
        "colab": {
          "base_uri": "https://localhost:8080/"
        },
        "id": "L7OASLrxiEsD",
        "outputId": "371f9e30-e217-45ba-80ae-b70cd255efa1"
      },
      "execution_count": 129,
      "outputs": [
        {
          "output_type": "execute_result",
          "data": {
            "text/plain": [
              "array([ -7.72285355,  -9.17711181, -55.46532679, -19.2430906 ,\n",
              "        -5.74606328, -40.70839338, -20.604392  , -57.34935131,\n",
              "        -3.04615597, -54.06962946])"
            ]
          },
          "metadata": {},
          "execution_count": 129
        }
      ]
    },
    {
      "cell_type": "markdown",
      "source": [
        "#### 36. Extract the integer part of a random array using 5 different methods (★★☆)\n"
      ],
      "metadata": {
        "id": "AGCbGE4Ai937"
      }
    },
    {
      "cell_type": "code",
      "source": [
        "Z = np.random.uniform(0,10,10)\n",
        "print(np.floor(Z))\n",
        "print(np.ceil(Z)-1)\n",
        "print(np.trunc(Z))\n",
        "print(Z.astype(int))"
      ],
      "metadata": {
        "colab": {
          "base_uri": "https://localhost:8080/"
        },
        "id": "XPzN8k11jAej",
        "outputId": "6609a2e0-695a-4681-bd3b-edc316ec96b1"
      },
      "execution_count": 130,
      "outputs": [
        {
          "output_type": "stream",
          "name": "stdout",
          "text": [
            "[5. 2. 3. 6. 8. 1. 7. 3. 7. 3.]\n",
            "[5. 2. 3. 6. 8. 1. 7. 3. 7. 3.]\n",
            "[5. 2. 3. 6. 8. 1. 7. 3. 7. 3.]\n",
            "[5 2 3 6 8 1 7 3 7 3]\n"
          ]
        }
      ]
    },
    {
      "cell_type": "markdown",
      "source": [
        "#### 37. Create a 5x5 matrix with row values ranging from 0 to 4 (★★☆)\n"
      ],
      "metadata": {
        "id": "LbAORfEtjmHR"
      }
    },
    {
      "cell_type": "code",
      "source": [
        "a_37 = np.arange(0, 5)\n",
        "res_37 = np.tile(a_37, (5, 1)).astype(float)\n",
        "res_37"
      ],
      "metadata": {
        "colab": {
          "base_uri": "https://localhost:8080/"
        },
        "id": "oeqCRm-Yjodf",
        "outputId": "52d3aa37-dbc9-48b7-af2d-b729ab554442"
      },
      "execution_count": 131,
      "outputs": [
        {
          "output_type": "execute_result",
          "data": {
            "text/plain": [
              "array([[0., 1., 2., 3., 4.],\n",
              "       [0., 1., 2., 3., 4.],\n",
              "       [0., 1., 2., 3., 4.],\n",
              "       [0., 1., 2., 3., 4.],\n",
              "       [0., 1., 2., 3., 4.]])"
            ]
          },
          "metadata": {},
          "execution_count": 131
        }
      ]
    },
    {
      "cell_type": "markdown",
      "source": [
        "#### 38. Consider a generator function that generates 10 integers and use it to build an array (★☆☆)\n"
      ],
      "metadata": {
        "id": "g_CtvfVLkSoU"
      }
    },
    {
      "cell_type": "code",
      "source": [
        "a_38 = range(10)\n",
        "res_38 = np.fromiter(a_38, dtype=float)\n",
        "res_38\n"
      ],
      "metadata": {
        "colab": {
          "base_uri": "https://localhost:8080/"
        },
        "id": "OUTbrpZ4kTmC",
        "outputId": "0848f705-583b-4ad0-e5c0-019b2d0344d6"
      },
      "execution_count": 132,
      "outputs": [
        {
          "output_type": "execute_result",
          "data": {
            "text/plain": [
              "array([0., 1., 2., 3., 4., 5., 6., 7., 8., 9.])"
            ]
          },
          "metadata": {},
          "execution_count": 132
        }
      ]
    },
    {
      "cell_type": "markdown",
      "source": [
        "#### 39. Create a vector of size 10 with values ranging from 0 to 1, both excluded (★★☆)"
      ],
      "metadata": {
        "id": "RDqZpEh0mhV4"
      }
    },
    {
      "cell_type": "code",
      "source": [
        "a_39 = np.linspace(0, 1, 12, dtype=float)\n",
        "a_39 = a_39[1:-1]\n",
        "a_39 = np.around(a_39, decimals=3)\n",
        "a_39"
      ],
      "metadata": {
        "colab": {
          "base_uri": "https://localhost:8080/"
        },
        "id": "Pe0U3BYRmkcm",
        "outputId": "c163622b-f1c6-423e-873b-72ab136c1699"
      },
      "execution_count": 133,
      "outputs": [
        {
          "output_type": "execute_result",
          "data": {
            "text/plain": [
              "array([0.091, 0.182, 0.273, 0.364, 0.455, 0.545, 0.636, 0.727, 0.818,\n",
              "       0.909])"
            ]
          },
          "metadata": {},
          "execution_count": 133
        }
      ]
    },
    {
      "cell_type": "markdown",
      "source": [
        "#### 40. Create a random vector of size 10 and sort it (★★☆)"
      ],
      "metadata": {
        "id": "ARqjUsZJnNjw"
      }
    },
    {
      "cell_type": "code",
      "source": [
        "a_40 = np.random.random(n)\n",
        "a_40.sort()\n",
        "a_40"
      ],
      "metadata": {
        "colab": {
          "base_uri": "https://localhost:8080/"
        },
        "id": "GlsvTbKanOcA",
        "outputId": "4dc7ee6f-53cd-418d-9e04-892e44d181c1"
      },
      "execution_count": 134,
      "outputs": [
        {
          "output_type": "execute_result",
          "data": {
            "text/plain": [
              "array([0.00154403, 0.04861812, 0.20383229, 0.37998798, 0.39772137,\n",
              "       0.43975942, 0.68318886, 0.77900503, 0.91568736, 0.97293786])"
            ]
          },
          "metadata": {},
          "execution_count": 134
        }
      ]
    }
  ]
}