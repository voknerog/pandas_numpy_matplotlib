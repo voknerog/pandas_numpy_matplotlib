{
  "nbformat": 4,
  "nbformat_minor": 0,
  "metadata": {
    "colab": {
      "provenance": [],
      "authorship_tag": "ABX9TyPgSw3rUbbqUuC7ygZ7fO21",
      "include_colab_link": true
    },
    "kernelspec": {
      "name": "python3",
      "display_name": "Python 3"
    },
    "language_info": {
      "name": "python"
    }
  },
  "cells": [
    {
      "cell_type": "markdown",
      "metadata": {
        "id": "view-in-github",
        "colab_type": "text"
      },
      "source": [
        "<a href=\"https://colab.research.google.com/github/voknerog/pandas_numpy_matplotlib/blob/main/NumPy.ipynb\" target=\"_parent\"><img src=\"https://colab.research.google.com/assets/colab-badge.svg\" alt=\"Open In Colab\"/></a>"
      ]
    },
    {
      "cell_type": "markdown",
      "source": [
        "#### 1. Import the numpy package under the name np (★☆☆)"
      ],
      "metadata": {
        "id": "3bNqOVxcrArV"
      }
    },
    {
      "cell_type": "code",
      "execution_count": 2,
      "metadata": {
        "id": "Vf6rQgZWqdJR"
      },
      "outputs": [],
      "source": [
        "import numpy as np"
      ]
    },
    {
      "cell_type": "markdown",
      "source": [
        "#### 2. Print the numpy version and the configuration (★☆☆)"
      ],
      "metadata": {
        "id": "BKuUJbUdrFcT"
      }
    },
    {
      "cell_type": "code",
      "source": [
        "print(np.__version__)"
      ],
      "metadata": {
        "colab": {
          "base_uri": "https://localhost:8080/"
        },
        "id": "LulMEiFlqljN",
        "outputId": "f67b2d3a-e58c-4e63-c6fa-cc172a98a69b"
      },
      "execution_count": 3,
      "outputs": [
        {
          "output_type": "stream",
          "name": "stdout",
          "text": [
            "1.23.5\n"
          ]
        }
      ]
    },
    {
      "cell_type": "markdown",
      "source": [
        "#### 3. Create a null vector of size 10 (★☆☆)"
      ],
      "metadata": {
        "id": "AF8hZkoKrKCG"
      }
    },
    {
      "cell_type": "code",
      "source": [
        "n = 10\n",
        "a_3 = np.zeros(n)"
      ],
      "metadata": {
        "id": "sse9gqPLqner"
      },
      "execution_count": 4,
      "outputs": []
    },
    {
      "cell_type": "markdown",
      "source": [
        "#### 4. How to find the memory size of any array (★☆☆)"
      ],
      "metadata": {
        "id": "n29aGz3Drfgd"
      }
    },
    {
      "cell_type": "code",
      "source": [
        "res_3 = a_3.nbytes\n"
      ],
      "metadata": {
        "id": "Y7g0wUNpqngx"
      },
      "execution_count": 5,
      "outputs": []
    },
    {
      "cell_type": "markdown",
      "source": [
        "#### 5. How to get the documentation of the numpy add function from the command line? (★☆☆)\n"
      ],
      "metadata": {
        "id": "rCGaBihOrj7E"
      }
    },
    {
      "cell_type": "code",
      "source": [
        "res_5 = [np.info(np.add), np.info(np.array)]"
      ],
      "metadata": {
        "id": "mvLSeWykqnjP",
        "colab": {
          "base_uri": "https://localhost:8080/"
        },
        "outputId": "46ba6b2d-64de-4911-856d-4e3cfc6ff26d"
      },
      "execution_count": 6,
      "outputs": [
        {
          "output_type": "stream",
          "name": "stdout",
          "text": [
            "add(x1, x2, /, out=None, *, where=True, casting='same_kind', order='K', dtype=None, subok=True[, signature, extobj])\n",
            "\n",
            "Add arguments element-wise.\n",
            "\n",
            "Parameters\n",
            "----------\n",
            "x1, x2 : array_like\n",
            "    The arrays to be added.\n",
            "    If ``x1.shape != x2.shape``, they must be broadcastable to a common\n",
            "    shape (which becomes the shape of the output).\n",
            "out : ndarray, None, or tuple of ndarray and None, optional\n",
            "    A location into which the result is stored. If provided, it must have\n",
            "    a shape that the inputs broadcast to. If not provided or None,\n",
            "    a freshly-allocated array is returned. A tuple (possible only as a\n",
            "    keyword argument) must have length equal to the number of outputs.\n",
            "where : array_like, optional\n",
            "    This condition is broadcast over the input. At locations where the\n",
            "    condition is True, the `out` array will be set to the ufunc result.\n",
            "    Elsewhere, the `out` array will retain its original value.\n",
            "    Note that if an uninitialized `out` array is created via the default\n",
            "    ``out=None``, locations within it where the condition is False will\n",
            "    remain uninitialized.\n",
            "**kwargs\n",
            "    For other keyword-only arguments, see the\n",
            "    :ref:`ufunc docs <ufuncs.kwargs>`.\n",
            "\n",
            "Returns\n",
            "-------\n",
            "add : ndarray or scalar\n",
            "    The sum of `x1` and `x2`, element-wise.\n",
            "    This is a scalar if both `x1` and `x2` are scalars.\n",
            "\n",
            "Notes\n",
            "-----\n",
            "Equivalent to `x1` + `x2` in terms of array broadcasting.\n",
            "\n",
            "Examples\n",
            "--------\n",
            ">>> np.add(1.0, 4.0)\n",
            "5.0\n",
            ">>> x1 = np.arange(9.0).reshape((3, 3))\n",
            ">>> x2 = np.arange(3.0)\n",
            ">>> np.add(x1, x2)\n",
            "array([[  0.,   2.,   4.],\n",
            "       [  3.,   5.,   7.],\n",
            "       [  6.,   8.,  10.]])\n",
            "\n",
            "The ``+`` operator can be used as a shorthand for ``np.add`` on ndarrays.\n",
            "\n",
            ">>> x1 = np.arange(9.0).reshape((3, 3))\n",
            ">>> x2 = np.arange(3.0)\n",
            ">>> x1 + x2\n",
            "array([[ 0.,  2.,  4.],\n",
            "       [ 3.,  5.,  7.],\n",
            "       [ 6.,  8., 10.]])\n",
            "array(object, dtype=None, *, copy=True, order='K', subok=False, ndmin=0,\n",
            "      like=None)\n",
            "\n",
            "Create an array.\n",
            "\n",
            "Parameters\n",
            "----------\n",
            "object : array_like\n",
            "    An array, any object exposing the array interface, an object whose\n",
            "    __array__ method returns an array, or any (nested) sequence.\n",
            "    If object is a scalar, a 0-dimensional array containing object is\n",
            "    returned.\n",
            "dtype : data-type, optional\n",
            "    The desired data-type for the array.  If not given, then the type will\n",
            "    be determined as the minimum type required to hold the objects in the\n",
            "    sequence.\n",
            "copy : bool, optional\n",
            "    If true (default), then the object is copied.  Otherwise, a copy will\n",
            "    only be made if __array__ returns a copy, if obj is a nested sequence,\n",
            "    or if a copy is needed to satisfy any of the other requirements\n",
            "    (`dtype`, `order`, etc.).\n",
            "order : {'K', 'A', 'C', 'F'}, optional\n",
            "    Specify the memory layout of the array. If object is not an array, the\n",
            "    newly created array will be in C order (row major) unless 'F' is\n",
            "    specified, in which case it will be in Fortran order (column major).\n",
            "    If object is an array the following holds.\n",
            "\n",
            "    ===== ========= ===================================================\n",
            "    order  no copy                     copy=True\n",
            "    ===== ========= ===================================================\n",
            "    'K'   unchanged F & C order preserved, otherwise most similar order\n",
            "    'A'   unchanged F order if input is F and not C, otherwise C order\n",
            "    'C'   C order   C order\n",
            "    'F'   F order   F order\n",
            "    ===== ========= ===================================================\n",
            "\n",
            "    When ``copy=False`` and a copy is made for other reasons, the result is\n",
            "    the same as if ``copy=True``, with some exceptions for 'A', see the\n",
            "    Notes section. The default order is 'K'.\n",
            "subok : bool, optional\n",
            "    If True, then sub-classes will be passed-through, otherwise\n",
            "    the returned array will be forced to be a base-class array (default).\n",
            "ndmin : int, optional\n",
            "    Specifies the minimum number of dimensions that the resulting\n",
            "    array should have.  Ones will be prepended to the shape as\n",
            "    needed to meet this requirement.\n",
            "like : array_like, optional\n",
            "    Reference object to allow the creation of arrays which are not\n",
            "    NumPy arrays. If an array-like passed in as ``like`` supports\n",
            "    the ``__array_function__`` protocol, the result will be defined\n",
            "    by it. In this case, it ensures the creation of an array object\n",
            "    compatible with that passed in via this argument.\n",
            "\n",
            "    .. versionadded:: 1.20.0\n",
            "\n",
            "Returns\n",
            "-------\n",
            "out : ndarray\n",
            "    An array object satisfying the specified requirements.\n",
            "\n",
            "See Also\n",
            "--------\n",
            "empty_like : Return an empty array with shape and type of input.\n",
            "ones_like : Return an array of ones with shape and type of input.\n",
            "zeros_like : Return an array of zeros with shape and type of input.\n",
            "full_like : Return a new array with shape of input filled with value.\n",
            "empty : Return a new uninitialized array.\n",
            "ones : Return a new array setting values to one.\n",
            "zeros : Return a new array setting values to zero.\n",
            "full : Return a new array of given shape filled with value.\n",
            "\n",
            "\n",
            "Notes\n",
            "-----\n",
            "When order is 'A' and `object` is an array in neither 'C' nor 'F' order,\n",
            "and a copy is forced by a change in dtype, then the order of the result is\n",
            "not necessarily 'C' as expected. This is likely a bug.\n",
            "\n",
            "Examples\n",
            "--------\n",
            ">>> np.array([1, 2, 3])\n",
            "array([1, 2, 3])\n",
            "\n",
            "Upcasting:\n",
            "\n",
            ">>> np.array([1, 2, 3.0])\n",
            "array([ 1.,  2.,  3.])\n",
            "\n",
            "More than one dimension:\n",
            "\n",
            ">>> np.array([[1, 2], [3, 4]])\n",
            "array([[1, 2],\n",
            "       [3, 4]])\n",
            "\n",
            "Minimum dimensions 2:\n",
            "\n",
            ">>> np.array([1, 2, 3], ndmin=2)\n",
            "array([[1, 2, 3]])\n",
            "\n",
            "Type provided:\n",
            "\n",
            ">>> np.array([1, 2, 3], dtype=complex)\n",
            "array([ 1.+0.j,  2.+0.j,  3.+0.j])\n",
            "\n",
            "Data-type consisting of more than one element:\n",
            "\n",
            ">>> x = np.array([(1,2),(3,4)],dtype=[('a','<i4'),('b','<i4')])\n",
            ">>> x['a']\n",
            "array([1, 3])\n",
            "\n",
            "Creating an array from sub-classes:\n",
            "\n",
            ">>> np.array(np.mat('1 2; 3 4'))\n",
            "array([[1, 2],\n",
            "       [3, 4]])\n",
            "\n",
            ">>> np.array(np.mat('1 2; 3 4'), subok=True)\n",
            "matrix([[1, 2],\n",
            "        [3, 4]])\n"
          ]
        }
      ]
    },
    {
      "cell_type": "markdown",
      "source": [
        "#### 6. Create a null vector of size 10 but the fifth value which is 1 (★☆☆)"
      ],
      "metadata": {
        "id": "lueMQo2frq8y"
      }
    },
    {
      "cell_type": "code",
      "source": [
        "n = 10\n",
        "a_6 = np.zeros(n)\n",
        "a_6[4] = 1"
      ],
      "metadata": {
        "id": "FtajVw0sqnlX"
      },
      "execution_count": 7,
      "outputs": []
    },
    {
      "cell_type": "markdown",
      "source": [
        "#### 7. Create a vector with values ranging from 10 to 49 (★☆☆)"
      ],
      "metadata": {
        "id": "F_V8PCpisJDm"
      }
    },
    {
      "cell_type": "code",
      "source": [
        "n = 10\n",
        "m = 49\n",
        "a_7 = np.arange(n, m+1)\n"
      ],
      "metadata": {
        "id": "PIVPd8Yiqnne"
      },
      "execution_count": 8,
      "outputs": []
    },
    {
      "cell_type": "markdown",
      "source": [
        "#### 8. Reverse a vector (first element becomes last) (★☆☆)\n"
      ],
      "metadata": {
        "id": "TE0NE5sssfFt"
      }
    },
    {
      "cell_type": "code",
      "source": [
        "a_8 = a_7[::-1]"
      ],
      "metadata": {
        "id": "p0UT8O3Iqnpo"
      },
      "execution_count": 9,
      "outputs": []
    },
    {
      "cell_type": "markdown",
      "source": [
        "#### 9. Create a 3x3 matrix with values ranging from 0 to 8 (★☆☆)"
      ],
      "metadata": {
        "id": "XNwWA8x7sm8Y"
      }
    },
    {
      "cell_type": "code",
      "source": [
        "a_9 = np.arange(9)\n",
        "a_9 = np.reshape(a_9, (3, 3))\n",
        "a_9"
      ],
      "metadata": {
        "colab": {
          "base_uri": "https://localhost:8080/"
        },
        "id": "R4SdfUu3qnsB",
        "outputId": "229edd09-5aa6-4c80-f111-692b834362a6"
      },
      "execution_count": 10,
      "outputs": [
        {
          "output_type": "execute_result",
          "data": {
            "text/plain": [
              "array([[0, 1, 2],\n",
              "       [3, 4, 5],\n",
              "       [6, 7, 8]])"
            ]
          },
          "metadata": {},
          "execution_count": 10
        }
      ]
    },
    {
      "cell_type": "markdown",
      "source": [
        "#### 10. Find indices of non-zero elements from [1,2,0,0,4,0] (★☆☆)"
      ],
      "metadata": {
        "id": "TrD_VQr2tD48"
      }
    },
    {
      "cell_type": "code",
      "source": [
        "a_10 = [1,2,0,0,4,0]\n",
        "res_10 = np.nonzero(a_10)\n",
        "res_10[0]\n"
      ],
      "metadata": {
        "colab": {
          "base_uri": "https://localhost:8080/"
        },
        "id": "T6L9cUQTqntv",
        "outputId": "4d5733de-67b7-459e-b675-df019fdedfca"
      },
      "execution_count": 11,
      "outputs": [
        {
          "output_type": "execute_result",
          "data": {
            "text/plain": [
              "array([0, 1, 4])"
            ]
          },
          "metadata": {},
          "execution_count": 11
        }
      ]
    },
    {
      "cell_type": "markdown",
      "source": [
        "#### 11. Create a 3x3 identity matrix (★☆☆)"
      ],
      "metadata": {
        "id": "CchswCWJvQyy"
      }
    },
    {
      "cell_type": "code",
      "source": [
        "a_11 = np.identity(3)\n",
        "a_11"
      ],
      "metadata": {
        "colab": {
          "base_uri": "https://localhost:8080/"
        },
        "id": "8_ccIfknu8Nb",
        "outputId": "8985db2e-6d9f-40ed-86b8-73b0ea29b45d"
      },
      "execution_count": 12,
      "outputs": [
        {
          "output_type": "execute_result",
          "data": {
            "text/plain": [
              "array([[1., 0., 0.],\n",
              "       [0., 1., 0.],\n",
              "       [0., 0., 1.]])"
            ]
          },
          "metadata": {},
          "execution_count": 12
        }
      ]
    },
    {
      "cell_type": "markdown",
      "source": [
        "#### 12. Create a 3x3x3 array with random values (★☆☆)"
      ],
      "metadata": {
        "id": "hdu3dnpixp8k"
      }
    },
    {
      "cell_type": "code",
      "source": [
        "a_12 = np.random.random((3,3,3))\n",
        "a_12"
      ],
      "metadata": {
        "id": "kMAmjwMFxqaL",
        "colab": {
          "base_uri": "https://localhost:8080/"
        },
        "outputId": "112f4b48-ce1d-43e4-dd74-8f85cf9e4c22"
      },
      "execution_count": 13,
      "outputs": [
        {
          "output_type": "execute_result",
          "data": {
            "text/plain": [
              "array([[[0.62994116, 0.81584594, 0.51968   ],\n",
              "        [0.5997803 , 0.51990331, 0.27311286],\n",
              "        [0.54997278, 0.16633567, 0.85691833]],\n",
              "\n",
              "       [[0.58822726, 0.49153568, 0.07707001],\n",
              "        [0.29443358, 0.87838749, 0.6128359 ],\n",
              "        [0.68257996, 0.90396623, 0.63900794]],\n",
              "\n",
              "       [[0.78044709, 0.16677398, 0.0129348 ],\n",
              "        [0.75118618, 0.26598265, 0.6907092 ],\n",
              "        [0.90880822, 0.20213594, 0.83972172]]])"
            ]
          },
          "metadata": {},
          "execution_count": 13
        }
      ]
    },
    {
      "cell_type": "markdown",
      "source": [
        "#### 13. Create a 10x10 array with random values and find the minimum and maximum values (★☆☆)"
      ],
      "metadata": {
        "id": "4p524QQRyZiL"
      }
    },
    {
      "cell_type": "code",
      "source": [
        "a_13 = np.random.random((10,10))\n",
        "f'min: {np.min(a_13)}, max: {np.max(a_13)}'"
      ],
      "metadata": {
        "colab": {
          "base_uri": "https://localhost:8080/",
          "height": 35
        },
        "id": "rDxhEQ-nyah5",
        "outputId": "6768f3a8-6eb4-4838-dff4-067348117c8c"
      },
      "execution_count": 14,
      "outputs": [
        {
          "output_type": "execute_result",
          "data": {
            "text/plain": [
              "'min: 0.0024547488700147335, max: 0.9925434972776471'"
            ],
            "application/vnd.google.colaboratory.intrinsic+json": {
              "type": "string"
            }
          },
          "metadata": {},
          "execution_count": 14
        }
      ]
    },
    {
      "cell_type": "markdown",
      "source": [
        "#### 14. Create a random vector of size 30 and find the mean value (★☆☆)"
      ],
      "metadata": {
        "id": "LChad5YNy7ql"
      }
    },
    {
      "cell_type": "code",
      "source": [
        "a_14 = np.random.random(14)\n",
        "a_14.mean()"
      ],
      "metadata": {
        "colab": {
          "base_uri": "https://localhost:8080/"
        },
        "id": "HJupwBpey833",
        "outputId": "6c19bf8d-47e1-401e-8b67-05e648515b0d"
      },
      "execution_count": 15,
      "outputs": [
        {
          "output_type": "execute_result",
          "data": {
            "text/plain": [
              "0.5217409998713362"
            ]
          },
          "metadata": {},
          "execution_count": 15
        }
      ]
    },
    {
      "cell_type": "markdown",
      "source": [
        "#### 15. Create a 2d array with 1 on the border and 0 inside (★☆☆)"
      ],
      "metadata": {
        "id": "YF-gil6kzJQZ"
      }
    },
    {
      "cell_type": "code",
      "source": [
        "a_15 = np.zeros((10,10))\n",
        "a_15[0] = 1\n",
        "a_15[-1] = 1\n",
        "a_15[:, 0] = 1\n",
        "a_15[:, -1] = 1\n",
        "a_15"
      ],
      "metadata": {
        "colab": {
          "base_uri": "https://localhost:8080/"
        },
        "id": "4Z04q1vqzRkU",
        "outputId": "fa23fe6e-332b-433d-de59-98367d472eae"
      },
      "execution_count": 16,
      "outputs": [
        {
          "output_type": "execute_result",
          "data": {
            "text/plain": [
              "array([[1., 1., 1., 1., 1., 1., 1., 1., 1., 1.],\n",
              "       [1., 0., 0., 0., 0., 0., 0., 0., 0., 1.],\n",
              "       [1., 0., 0., 0., 0., 0., 0., 0., 0., 1.],\n",
              "       [1., 0., 0., 0., 0., 0., 0., 0., 0., 1.],\n",
              "       [1., 0., 0., 0., 0., 0., 0., 0., 0., 1.],\n",
              "       [1., 0., 0., 0., 0., 0., 0., 0., 0., 1.],\n",
              "       [1., 0., 0., 0., 0., 0., 0., 0., 0., 1.],\n",
              "       [1., 0., 0., 0., 0., 0., 0., 0., 0., 1.],\n",
              "       [1., 0., 0., 0., 0., 0., 0., 0., 0., 1.],\n",
              "       [1., 1., 1., 1., 1., 1., 1., 1., 1., 1.]])"
            ]
          },
          "metadata": {},
          "execution_count": 16
        }
      ]
    },
    {
      "cell_type": "markdown",
      "source": [
        "#### 16. How to add a border (filled with 0's) around an existing array? (★☆☆)"
      ],
      "metadata": {
        "id": "kphVJgU90tIc"
      }
    },
    {
      "cell_type": "code",
      "source": [
        "a_16 = np.pad(a_15,(1,1), mode='constant')\n",
        "a_16"
      ],
      "metadata": {
        "colab": {
          "base_uri": "https://localhost:8080/"
        },
        "id": "l3q2DMYC0wUX",
        "outputId": "4305eb33-79c0-4932-9eb5-f9ae0bf274a8"
      },
      "execution_count": 17,
      "outputs": [
        {
          "output_type": "execute_result",
          "data": {
            "text/plain": [
              "array([[0., 0., 0., 0., 0., 0., 0., 0., 0., 0., 0., 0.],\n",
              "       [0., 1., 1., 1., 1., 1., 1., 1., 1., 1., 1., 0.],\n",
              "       [0., 1., 0., 0., 0., 0., 0., 0., 0., 0., 1., 0.],\n",
              "       [0., 1., 0., 0., 0., 0., 0., 0., 0., 0., 1., 0.],\n",
              "       [0., 1., 0., 0., 0., 0., 0., 0., 0., 0., 1., 0.],\n",
              "       [0., 1., 0., 0., 0., 0., 0., 0., 0., 0., 1., 0.],\n",
              "       [0., 1., 0., 0., 0., 0., 0., 0., 0., 0., 1., 0.],\n",
              "       [0., 1., 0., 0., 0., 0., 0., 0., 0., 0., 1., 0.],\n",
              "       [0., 1., 0., 0., 0., 0., 0., 0., 0., 0., 1., 0.],\n",
              "       [0., 1., 0., 0., 0., 0., 0., 0., 0., 0., 1., 0.],\n",
              "       [0., 1., 1., 1., 1., 1., 1., 1., 1., 1., 1., 0.],\n",
              "       [0., 0., 0., 0., 0., 0., 0., 0., 0., 0., 0., 0.]])"
            ]
          },
          "metadata": {},
          "execution_count": 17
        }
      ]
    },
    {
      "cell_type": "markdown",
      "source": [
        "#### 17. What is the result of the following expression? (★☆☆)<br>\n",
        "0 * np.nan<br>\n",
        "np.nan == np.nan<br>\n",
        "np.inf > np.nan<br>\n",
        "np.nan - np.nan<br>\n",
        "np.nan in set([np.nan])<br>\n",
        " 0.3 == 3 * 0.1<br>"
      ],
      "metadata": {
        "id": "TP-ivD372YMZ"
      }
    },
    {
      "cell_type": "code",
      "source": [
        "0 * np.nan\n",
        "np.nan == np.nan\n",
        "np.inf > np.nan\n",
        "np.nan - np.nan\n",
        "np.nan in set([np.nan])\n",
        "0.3 == 3 * 0.1"
      ],
      "metadata": {
        "colab": {
          "base_uri": "https://localhost:8080/"
        },
        "id": "aOf7otCX2waJ",
        "outputId": "57da9685-723a-4c3e-cbcb-2aa00db339e6"
      },
      "execution_count": 18,
      "outputs": [
        {
          "output_type": "execute_result",
          "data": {
            "text/plain": [
              "False"
            ]
          },
          "metadata": {},
          "execution_count": 18
        }
      ]
    },
    {
      "cell_type": "markdown",
      "source": [
        "#### 18. Create a 5x5 matrix with values 1,2,3,4 just below the diagonal (★☆☆)"
      ],
      "metadata": {
        "id": "zsbJUhBV28_w"
      }
    },
    {
      "cell_type": "code",
      "source": [
        "a_18 = np.diagflat([1, 2, 3, 4], -1)\n",
        "a_18"
      ],
      "metadata": {
        "colab": {
          "base_uri": "https://localhost:8080/"
        },
        "id": "WyYNn2FK2btr",
        "outputId": "8ee4dc2c-8bb1-413f-ee49-2327619fff5a"
      },
      "execution_count": 19,
      "outputs": [
        {
          "output_type": "execute_result",
          "data": {
            "text/plain": [
              "array([[0, 0, 0, 0, 0],\n",
              "       [1, 0, 0, 0, 0],\n",
              "       [0, 2, 0, 0, 0],\n",
              "       [0, 0, 3, 0, 0],\n",
              "       [0, 0, 0, 4, 0]])"
            ]
          },
          "metadata": {},
          "execution_count": 19
        }
      ]
    },
    {
      "cell_type": "markdown",
      "source": [
        "#### 19. Create a 8x8 matrix and fill it with a checkerboard pattern (★☆☆)"
      ],
      "metadata": {
        "id": "TKEGdAvA37AK"
      }
    },
    {
      "cell_type": "code",
      "source": [
        "a_19 = np.ones((8, 8))\n",
        "a_19[::2, ::2] = 0\n",
        "a_19[1::2,1::2] = 0\n",
        "a_19"
      ],
      "metadata": {
        "colab": {
          "base_uri": "https://localhost:8080/"
        },
        "id": "5Kk1LR-036UY",
        "outputId": "adbd98fc-93a0-493f-cd09-d8a7b9544490"
      },
      "execution_count": 20,
      "outputs": [
        {
          "output_type": "execute_result",
          "data": {
            "text/plain": [
              "array([[0., 1., 0., 1., 0., 1., 0., 1.],\n",
              "       [1., 0., 1., 0., 1., 0., 1., 0.],\n",
              "       [0., 1., 0., 1., 0., 1., 0., 1.],\n",
              "       [1., 0., 1., 0., 1., 0., 1., 0.],\n",
              "       [0., 1., 0., 1., 0., 1., 0., 1.],\n",
              "       [1., 0., 1., 0., 1., 0., 1., 0.],\n",
              "       [0., 1., 0., 1., 0., 1., 0., 1.],\n",
              "       [1., 0., 1., 0., 1., 0., 1., 0.]])"
            ]
          },
          "metadata": {},
          "execution_count": 20
        }
      ]
    },
    {
      "cell_type": "markdown",
      "source": [
        "#### 20. Consider a (6,7,8) shape array, what is the index (x,y,z) of the 100th element? (★☆☆)\n"
      ],
      "metadata": {
        "id": "QK6J13Ny4aBy"
      }
    },
    {
      "cell_type": "code",
      "source": [
        "a_20 = np.array((6,7,8))\n",
        "res_20 = np.unravel_index(100, (6, 7, 8))\n",
        "res_20"
      ],
      "metadata": {
        "colab": {
          "base_uri": "https://localhost:8080/"
        },
        "id": "llRfse-Q4cH_",
        "outputId": "e3095859-25c1-4660-d5ef-8ddcf1f65fa5"
      },
      "execution_count": 21,
      "outputs": [
        {
          "output_type": "execute_result",
          "data": {
            "text/plain": [
              "(1, 5, 4)"
            ]
          },
          "metadata": {},
          "execution_count": 21
        }
      ]
    },
    {
      "cell_type": "markdown",
      "source": [
        "#### 21. Create a checkerboard 8x8 matrix using the tile function (★☆☆)\n"
      ],
      "metadata": {
        "id": "HKWOvWPtZf93"
      }
    },
    {
      "cell_type": "code",
      "source": [
        "a_21 = np.tile([[0, 1],[1, 0]], (4, 4))\n",
        "a_21"
      ],
      "metadata": {
        "colab": {
          "base_uri": "https://localhost:8080/"
        },
        "id": "6GEWLJVLZgh6",
        "outputId": "626d024c-a9b0-4295-c17a-3104b1f97e0c"
      },
      "execution_count": 22,
      "outputs": [
        {
          "output_type": "execute_result",
          "data": {
            "text/plain": [
              "array([[0, 1, 0, 1, 0, 1, 0, 1],\n",
              "       [1, 0, 1, 0, 1, 0, 1, 0],\n",
              "       [0, 1, 0, 1, 0, 1, 0, 1],\n",
              "       [1, 0, 1, 0, 1, 0, 1, 0],\n",
              "       [0, 1, 0, 1, 0, 1, 0, 1],\n",
              "       [1, 0, 1, 0, 1, 0, 1, 0],\n",
              "       [0, 1, 0, 1, 0, 1, 0, 1],\n",
              "       [1, 0, 1, 0, 1, 0, 1, 0]])"
            ]
          },
          "metadata": {},
          "execution_count": 22
        }
      ]
    },
    {
      "cell_type": "markdown",
      "source": [
        "#### 22. Normalize a 5x5 random matrix (★☆☆)\n"
      ],
      "metadata": {
        "id": "NPfgblpsZ1ye"
      }
    },
    {
      "cell_type": "code",
      "source": [
        "a_22 = np.random.random((5, 5))\n",
        "res_22 = np.around((a_22 - np.mean(a_22)) / np.std(a_22), decimals=2)\n",
        "res_22"
      ],
      "metadata": {
        "colab": {
          "base_uri": "https://localhost:8080/"
        },
        "id": "u_pvQQMNZ2uT",
        "outputId": "6319294e-26db-4f4d-8e95-66730878e2eb"
      },
      "execution_count": 23,
      "outputs": [
        {
          "output_type": "execute_result",
          "data": {
            "text/plain": [
              "array([[ 1.11,  0.89, -1.45, -0.95,  0.14],\n",
              "       [ 1.22, -0.86, -1.11, -0.67,  0.93],\n",
              "       [-0.55, -1.27, -0.57,  1.19,  0.97],\n",
              "       [-0.83,  0.3 , -0.49,  1.06, -1.41],\n",
              "       [ 1.1 ,  1.3 ,  0.73, -1.55,  0.78]])"
            ]
          },
          "metadata": {},
          "execution_count": 23
        }
      ]
    },
    {
      "cell_type": "markdown",
      "source": [
        "#### 23. Create a custom dtype that describes a color as four unsigned bytes (RGBA) (★☆☆)"
      ],
      "metadata": {
        "id": "BcZfaoEIapQw"
      }
    },
    {
      "cell_type": "code",
      "source": [
        "a_23 = np.dtype([(\"r\", np.ubyte, 1), (\"g\", np.ubyte, 1), (\"b\", np.ubyte, 1), (\"a\", np.ubyte, 1)])\n",
        "a_23"
      ],
      "metadata": {
        "colab": {
          "base_uri": "https://localhost:8080/"
        },
        "id": "IL4QPzxcarqu",
        "outputId": "9affb971-3369-4c1c-8267-04246618bb54"
      },
      "execution_count": 24,
      "outputs": [
        {
          "output_type": "stream",
          "name": "stderr",
          "text": [
            "<ipython-input-24-62d52dc41ca1>:1: FutureWarning: Passing (type, 1) or '1type' as a synonym of type is deprecated; in a future version of numpy, it will be understood as (type, (1,)) / '(1,)type'.\n",
            "  a_23 = np.dtype([(\"r\", np.ubyte, 1), (\"g\", np.ubyte, 1), (\"b\", np.ubyte, 1), (\"a\", np.ubyte, 1)])\n"
          ]
        },
        {
          "output_type": "execute_result",
          "data": {
            "text/plain": [
              "dtype([('r', 'u1'), ('g', 'u1'), ('b', 'u1'), ('a', 'u1')])"
            ]
          },
          "metadata": {},
          "execution_count": 24
        }
      ]
    },
    {
      "cell_type": "markdown",
      "source": [
        "#### 24. Multiply a 5x3 matrix by a 3x2 matrix (real matrix product) (★☆☆)\n"
      ],
      "metadata": {
        "id": "PPPkEv-xceIH"
      }
    },
    {
      "cell_type": "code",
      "source": [
        "A = np.random.random((5, 3))\n",
        "B = np.random.random((3, 2))\n",
        "a_24 = np.dot(A, B)\n",
        "a_24"
      ],
      "metadata": {
        "colab": {
          "base_uri": "https://localhost:8080/"
        },
        "id": "9uCR0glMceqW",
        "outputId": "1b9d5468-b292-49e3-8a5f-12faa1c3bf36"
      },
      "execution_count": 25,
      "outputs": [
        {
          "output_type": "execute_result",
          "data": {
            "text/plain": [
              "array([[0.70701216, 1.37014277],\n",
              "       [0.50196488, 0.63662914],\n",
              "       [0.5841159 , 1.08072384],\n",
              "       [0.57746729, 1.04821763],\n",
              "       [0.70445388, 1.07883756]])"
            ]
          },
          "metadata": {},
          "execution_count": 25
        }
      ]
    },
    {
      "cell_type": "markdown",
      "source": [
        "#### 25. Given a 1D array, negate all elements which are between 3 and 8, in place. (★☆☆)\n"
      ],
      "metadata": {
        "id": "YspuT-q7c5fc"
      }
    },
    {
      "cell_type": "code",
      "source": [
        "a_25 = np.random.random((10)) * 10\n",
        "a_25 = np.where((a_25 > 7) | (a_25 < 4), a_25, a_25 * -1)\n",
        "a_25"
      ],
      "metadata": {
        "colab": {
          "base_uri": "https://localhost:8080/"
        },
        "id": "Z7QtQyzqc7BT",
        "outputId": "5dfdacb6-9b4c-4335-d420-ebda6ed9d658"
      },
      "execution_count": 26,
      "outputs": [
        {
          "output_type": "execute_result",
          "data": {
            "text/plain": [
              "array([-6.93755503,  2.38068643,  9.187301  , -5.90368108, -6.19847887,\n",
              "        7.65701961,  1.56802376,  3.44848726, -6.68929504,  1.96118877])"
            ]
          },
          "metadata": {},
          "execution_count": 26
        }
      ]
    },
    {
      "cell_type": "markdown",
      "source": [
        "#### 26. What is the output of the following script? (★☆☆)\n"
      ],
      "metadata": {
        "id": "At24nP_aeNau"
      }
    },
    {
      "cell_type": "code",
      "source": [
        "print(sum(range(5),-1))\n",
        "from numpy import *\n",
        "print(sum(range(5),-1))"
      ],
      "metadata": {
        "colab": {
          "base_uri": "https://localhost:8080/"
        },
        "id": "01UL_hCReQbg",
        "outputId": "8bdc431c-18ef-4d82-faca-e937199107ae"
      },
      "execution_count": 27,
      "outputs": [
        {
          "output_type": "stream",
          "name": "stdout",
          "text": [
            "9\n",
            "10\n"
          ]
        }
      ]
    },
    {
      "cell_type": "markdown",
      "source": [
        "#### 27. Consider an integer vector Z, which of these expressions are legal? (★☆☆)\n",
        "* Z**Z\n",
        "* 2 << Z >> 2\n",
        "* Z <- Z\n",
        "* 1j*Z\n",
        "* Z/1/1\n",
        "* Z<Z>Z"
      ],
      "metadata": {
        "id": "E_zBEcNoehjj"
      }
    },
    {
      "cell_type": "markdown",
      "source": [
        "#### 28. What are the result of the following expressions?\n",
        "\n",
        "* print(np.array(0) / np.array(0))\n",
        "* print(np.array(0) // np.array(0))\n",
        "* print(np.array([np.nan]).astype(int).astype(float))"
      ],
      "metadata": {
        "id": "4_KBSNi1esOT"
      }
    },
    {
      "cell_type": "markdown",
      "source": [
        "#### 29. How to round away from zero a float array ? (★☆☆)"
      ],
      "metadata": {
        "id": "ybr5uiFZfCA0"
      }
    },
    {
      "cell_type": "code",
      "source": [
        "a_29 = a_25\n",
        "a_29 = np.where(a_29 > 0, a_29, np.floor(a_29))\n",
        "a_29 = np.where(a_29 < 0, a_29, np.ceil(a_29))\n",
        "a_29"
      ],
      "metadata": {
        "colab": {
          "base_uri": "https://localhost:8080/"
        },
        "id": "eZ22p8f_elHi",
        "outputId": "10c120ba-66b3-4952-a9c6-6cec6ca89d2c"
      },
      "execution_count": 28,
      "outputs": [
        {
          "output_type": "execute_result",
          "data": {
            "text/plain": [
              "array([-7.,  3., 10., -6., -7.,  8.,  2.,  4., -7.,  2.])"
            ]
          },
          "metadata": {},
          "execution_count": 28
        }
      ]
    },
    {
      "cell_type": "markdown",
      "source": [
        "#### 30. How to find common values between two arrays? (★☆☆)"
      ],
      "metadata": {
        "id": "tbxHcMDtgFui"
      }
    },
    {
      "cell_type": "code",
      "source": [
        "a_30 = np.intersect1d(a_29, a_25)\n",
        "a_30"
      ],
      "metadata": {
        "colab": {
          "base_uri": "https://localhost:8080/"
        },
        "id": "vCvvvMBxgKW9",
        "outputId": "facb88a3-f055-4103-e206-358fc1848c26"
      },
      "execution_count": 29,
      "outputs": [
        {
          "output_type": "execute_result",
          "data": {
            "text/plain": [
              "array([], dtype=float64)"
            ]
          },
          "metadata": {},
          "execution_count": 29
        }
      ]
    },
    {
      "cell_type": "markdown",
      "source": [
        "#### 31. How to ignore all numpy warnings (not recommended)? (★☆☆)\n"
      ],
      "metadata": {
        "id": "KdpqaDrvg2A7"
      }
    },
    {
      "cell_type": "code",
      "source": [
        "# np.seterr(all='ignore')"
      ],
      "metadata": {
        "id": "-pjKejnLg-md"
      },
      "execution_count": 30,
      "outputs": []
    },
    {
      "cell_type": "markdown",
      "source": [
        "#### 32. Is the following expressions true? (★☆☆)"
      ],
      "metadata": {
        "id": "kOnxltedg5ST"
      }
    },
    {
      "cell_type": "code",
      "source": [
        "np.sqrt(-1) == np.emath.sqrt(-1)"
      ],
      "metadata": {
        "colab": {
          "base_uri": "https://localhost:8080/"
        },
        "id": "aXmrfh0ehGXA",
        "outputId": "49b6a45e-796c-4558-91fb-913bff6cc405"
      },
      "execution_count": 31,
      "outputs": [
        {
          "output_type": "stream",
          "name": "stderr",
          "text": [
            "<ipython-input-31-16339fbc685e>:1: RuntimeWarning: invalid value encountered in sqrt\n",
            "  np.sqrt(-1) == np.emath.sqrt(-1)\n"
          ]
        },
        {
          "output_type": "execute_result",
          "data": {
            "text/plain": [
              "False"
            ]
          },
          "metadata": {},
          "execution_count": 31
        }
      ]
    },
    {
      "cell_type": "markdown",
      "source": [
        "####  33. How to get the dates of yesterday, today and tomorrow? (★☆☆)"
      ],
      "metadata": {
        "id": "Wabd3BxEhL4Q"
      }
    },
    {
      "cell_type": "code",
      "source": [
        "print(np.datetime64('today'))\n",
        "print(np.datetime64('today') - 1)\n",
        "print(np.datetime64('today') + 1)\n"
      ],
      "metadata": {
        "colab": {
          "base_uri": "https://localhost:8080/"
        },
        "id": "HqZyryodhQqh",
        "outputId": "f789a69e-ab60-48e6-a85c-fc4af3e0a93b"
      },
      "execution_count": 32,
      "outputs": [
        {
          "output_type": "stream",
          "name": "stdout",
          "text": [
            "2023-10-02\n",
            "2023-10-01\n",
            "2023-10-03\n"
          ]
        }
      ]
    },
    {
      "cell_type": "markdown",
      "source": [
        "#### 34. How to get all the dates corresponding to the month of July 2016? (★★☆)"
      ],
      "metadata": {
        "id": "tMlbZ6sYhle5"
      }
    },
    {
      "cell_type": "code",
      "source": [
        "a_34 = np.arange('2016-07', '2016-08', dtype='datetime64[D]')\n",
        "a_34"
      ],
      "metadata": {
        "colab": {
          "base_uri": "https://localhost:8080/"
        },
        "id": "bulcajc5hqy7",
        "outputId": "2aab5b93-5c30-4965-d957-1beecb4c197d"
      },
      "execution_count": 33,
      "outputs": [
        {
          "output_type": "execute_result",
          "data": {
            "text/plain": [
              "array(['2016-07-01', '2016-07-02', '2016-07-03', '2016-07-04',\n",
              "       '2016-07-05', '2016-07-06', '2016-07-07', '2016-07-08',\n",
              "       '2016-07-09', '2016-07-10', '2016-07-11', '2016-07-12',\n",
              "       '2016-07-13', '2016-07-14', '2016-07-15', '2016-07-16',\n",
              "       '2016-07-17', '2016-07-18', '2016-07-19', '2016-07-20',\n",
              "       '2016-07-21', '2016-07-22', '2016-07-23', '2016-07-24',\n",
              "       '2016-07-25', '2016-07-26', '2016-07-27', '2016-07-28',\n",
              "       '2016-07-29', '2016-07-30', '2016-07-31'], dtype='datetime64[D]')"
            ]
          },
          "metadata": {},
          "execution_count": 33
        }
      ]
    },
    {
      "cell_type": "markdown",
      "source": [
        "#### 35. How to compute ((A+B)*(-A/2)) in place (without copy)? (★★☆)"
      ],
      "metadata": {
        "id": "KzX1WgloiBgA"
      }
    },
    {
      "cell_type": "code",
      "source": [
        "A = np.random.random((10)) * 9\n",
        "B = np.random.random((10)) * 10\n",
        "np.add(A, B, out=B)\n",
        "np.divide(A,2,out=A)\n",
        "np.negative(A,out=A)\n",
        "np.multiply(A,B,out=A)"
      ],
      "metadata": {
        "colab": {
          "base_uri": "https://localhost:8080/"
        },
        "id": "L7OASLrxiEsD",
        "outputId": "bde03b34-d6e9-4cf5-9a07-13183c8366d2"
      },
      "execution_count": 34,
      "outputs": [
        {
          "output_type": "execute_result",
          "data": {
            "text/plain": [
              "array([-39.02785532, -44.84790439, -59.91529233, -37.45348609,\n",
              "       -14.93658729, -17.55382151, -16.69107186, -30.78506023,\n",
              "        -8.29274122,  -3.31858824])"
            ]
          },
          "metadata": {},
          "execution_count": 34
        }
      ]
    },
    {
      "cell_type": "markdown",
      "source": [
        "#### 36. Extract the integer part of a random array using 5 different methods (★★☆)\n"
      ],
      "metadata": {
        "id": "AGCbGE4Ai937"
      }
    },
    {
      "cell_type": "code",
      "source": [
        "Z = np.random.uniform(0,10,10)\n",
        "print(np.floor(Z))\n",
        "print(np.ceil(Z)-1)\n",
        "print(np.trunc(Z))\n",
        "print(Z.astype(int))"
      ],
      "metadata": {
        "colab": {
          "base_uri": "https://localhost:8080/"
        },
        "id": "XPzN8k11jAej",
        "outputId": "f7de4644-29ae-41b7-b282-02731c1e908e"
      },
      "execution_count": 35,
      "outputs": [
        {
          "output_type": "stream",
          "name": "stdout",
          "text": [
            "[8. 2. 6. 6. 6. 7. 9. 9. 5. 7.]\n",
            "[8. 2. 6. 6. 6. 7. 9. 9. 5. 7.]\n",
            "[8. 2. 6. 6. 6. 7. 9. 9. 5. 7.]\n",
            "[8 2 6 6 6 7 9 9 5 7]\n"
          ]
        }
      ]
    },
    {
      "cell_type": "markdown",
      "source": [
        "#### 37. Create a 5x5 matrix with row values ranging from 0 to 4 (★★☆)\n"
      ],
      "metadata": {
        "id": "LbAORfEtjmHR"
      }
    },
    {
      "cell_type": "code",
      "source": [
        "a_37 = np.arange(0, 5)\n",
        "res_37 = np.tile(a_37, (5, 1)).astype(float)\n",
        "res_37"
      ],
      "metadata": {
        "colab": {
          "base_uri": "https://localhost:8080/"
        },
        "id": "oeqCRm-Yjodf",
        "outputId": "7847c71e-681d-4640-b120-29c70670cd92"
      },
      "execution_count": 36,
      "outputs": [
        {
          "output_type": "execute_result",
          "data": {
            "text/plain": [
              "array([[0., 1., 2., 3., 4.],\n",
              "       [0., 1., 2., 3., 4.],\n",
              "       [0., 1., 2., 3., 4.],\n",
              "       [0., 1., 2., 3., 4.],\n",
              "       [0., 1., 2., 3., 4.]])"
            ]
          },
          "metadata": {},
          "execution_count": 36
        }
      ]
    },
    {
      "cell_type": "markdown",
      "source": [
        "#### 38. Consider a generator function that generates 10 integers and use it to build an array (★☆☆)\n"
      ],
      "metadata": {
        "id": "g_CtvfVLkSoU"
      }
    },
    {
      "cell_type": "code",
      "source": [
        "a_38 = range(10)\n",
        "res_38 = np.fromiter(a_38, dtype=float)\n",
        "res_38\n"
      ],
      "metadata": {
        "colab": {
          "base_uri": "https://localhost:8080/"
        },
        "id": "OUTbrpZ4kTmC",
        "outputId": "180bdeed-fc09-4da6-a486-aabd1de59ac6"
      },
      "execution_count": 37,
      "outputs": [
        {
          "output_type": "execute_result",
          "data": {
            "text/plain": [
              "array([0., 1., 2., 3., 4., 5., 6., 7., 8., 9.])"
            ]
          },
          "metadata": {},
          "execution_count": 37
        }
      ]
    },
    {
      "cell_type": "markdown",
      "source": [
        "#### 39. Create a vector of size 10 with values ranging from 0 to 1, both excluded (★★☆)"
      ],
      "metadata": {
        "id": "RDqZpEh0mhV4"
      }
    },
    {
      "cell_type": "code",
      "source": [
        "a_39 = np.linspace(0, 1, 12, dtype=float)\n",
        "a_39 = a_39[1:-1]\n",
        "a_39 = np.around(a_39, decimals=3)\n",
        "a_39"
      ],
      "metadata": {
        "colab": {
          "base_uri": "https://localhost:8080/"
        },
        "id": "Pe0U3BYRmkcm",
        "outputId": "e2ab3f9c-0e1e-423b-abf9-8a7d2c1618fe"
      },
      "execution_count": 38,
      "outputs": [
        {
          "output_type": "execute_result",
          "data": {
            "text/plain": [
              "array([0.091, 0.182, 0.273, 0.364, 0.455, 0.545, 0.636, 0.727, 0.818,\n",
              "       0.909])"
            ]
          },
          "metadata": {},
          "execution_count": 38
        }
      ]
    },
    {
      "cell_type": "markdown",
      "source": [
        "#### 40. Create a random vector of size 10 and sort it (★★☆)"
      ],
      "metadata": {
        "id": "ARqjUsZJnNjw"
      }
    },
    {
      "cell_type": "code",
      "source": [
        "a_40 = np.random.random(n)\n",
        "a_40.sort()\n",
        "a_40"
      ],
      "metadata": {
        "colab": {
          "base_uri": "https://localhost:8080/"
        },
        "id": "GlsvTbKanOcA",
        "outputId": "d54c446c-a87a-4cbb-89b0-5ed2109b7034"
      },
      "execution_count": 39,
      "outputs": [
        {
          "output_type": "execute_result",
          "data": {
            "text/plain": [
              "array([0.01498766, 0.19102744, 0.2543104 , 0.745719  , 0.75504774,\n",
              "       0.75946622, 0.80418846, 0.85020436, 0.8915451 , 0.91670968])"
            ]
          },
          "metadata": {},
          "execution_count": 39
        }
      ]
    },
    {
      "cell_type": "markdown",
      "source": [
        "41. How to sum a small array faster than np.sum? (★★☆)"
      ],
      "metadata": {
        "id": "ExgIgtU_aZEm"
      }
    },
    {
      "cell_type": "code",
      "source": [
        "%time\n",
        "a_41 = np.random.random(n)\n",
        "np.add.reduce(a_41)"
      ],
      "metadata": {
        "id": "rS_WtNsiahME",
        "outputId": "8e4353d0-ced9-4010-be56-ce5474f50251",
        "colab": {
          "base_uri": "https://localhost:8080/"
        }
      },
      "execution_count": 43,
      "outputs": [
        {
          "output_type": "stream",
          "name": "stdout",
          "text": [
            "CPU times: user 4 µs, sys: 0 ns, total: 4 µs\n",
            "Wall time: 7.39 µs\n"
          ]
        },
        {
          "output_type": "execute_result",
          "data": {
            "text/plain": [
              "6.356566222132604"
            ]
          },
          "metadata": {},
          "execution_count": 43
        }
      ]
    },
    {
      "cell_type": "markdown",
      "source": [
        "42. Consider two random array A and B, check if they are equal (★★☆)"
      ],
      "metadata": {
        "id": "TZJWDjl0ai08"
      }
    },
    {
      "cell_type": "code",
      "source": [
        "a_42_1 = np.random.randint(0,2,5)\n",
        "a_42_2 = np.random.randint(0,2,5)\n",
        "np.array_equal(a_42_1,a_42_2)"
      ],
      "metadata": {
        "id": "Lc4IGsmTajiJ",
        "outputId": "49d072f8-7ea1-4934-8dc9-6c4d3aeb4a70",
        "colab": {
          "base_uri": "https://localhost:8080/"
        }
      },
      "execution_count": 46,
      "outputs": [
        {
          "output_type": "execute_result",
          "data": {
            "text/plain": [
              "False"
            ]
          },
          "metadata": {},
          "execution_count": 46
        }
      ]
    },
    {
      "cell_type": "markdown",
      "source": [
        "43. Make an array immutable (read-only) (★★☆)"
      ],
      "metadata": {
        "id": "_A0_4j0Aaj0T"
      }
    },
    {
      "cell_type": "code",
      "source": [],
      "metadata": {
        "id": "44tOWf2XalWK"
      },
      "execution_count": null,
      "outputs": []
    },
    {
      "cell_type": "markdown",
      "source": [
        "44. Consider a random 10x2 matrix representing cartesian coordinates, convert them to polar coordinates (★★☆)"
      ],
      "metadata": {
        "id": "PFjtCOQIamGK"
      }
    },
    {
      "cell_type": "code",
      "source": [],
      "metadata": {
        "id": "ghbjHr8qanmi"
      },
      "execution_count": null,
      "outputs": []
    },
    {
      "cell_type": "markdown",
      "source": [
        "45. Create random vector of size 10 and replace the maximum value by 0 (★★☆)"
      ],
      "metadata": {
        "id": "KzoObxaManuZ"
      }
    },
    {
      "cell_type": "code",
      "source": [],
      "metadata": {
        "id": "-b6dbM-xaphf"
      },
      "execution_count": null,
      "outputs": []
    }
  ]
}