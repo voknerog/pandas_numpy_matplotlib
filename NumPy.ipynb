{
  "nbformat": 4,
  "nbformat_minor": 0,
  "metadata": {
    "colab": {
      "provenance": [],
      "collapsed_sections": [],
      "authorship_tag": "ABX9TyPrlk0R4GCYKUGz+sJ6BE1O",
      "include_colab_link": true
    },
    "kernelspec": {
      "name": "python3",
      "display_name": "Python 3"
    },
    "language_info": {
      "name": "python"
    }
  },
  "cells": [
    {
      "cell_type": "markdown",
      "metadata": {
        "id": "view-in-github",
        "colab_type": "text"
      },
      "source": [
        "<a href=\"https://colab.research.google.com/github/voknerog/pandas_numpy_matplotlib/blob/colab/NumPy.ipynb\" target=\"_parent\"><img src=\"https://colab.research.google.com/assets/colab-badge.svg\" alt=\"Open In Colab\"/></a>"
      ]
    },
    {
      "cell_type": "markdown",
      "source": [
        "1. Import the numpy package under the name np (★☆☆)"
      ],
      "metadata": {
        "id": "3bNqOVxcrArV"
      }
    },
    {
      "cell_type": "code",
      "execution_count": 1,
      "metadata": {
        "id": "Vf6rQgZWqdJR"
      },
      "outputs": [],
      "source": [
        "import numpy as np"
      ]
    },
    {
      "cell_type": "markdown",
      "source": [
        "2. Print the numpy version and the configuration (★☆☆)"
      ],
      "metadata": {
        "id": "BKuUJbUdrFcT"
      }
    },
    {
      "cell_type": "code",
      "source": [
        "print(np.__version__)"
      ],
      "metadata": {
        "colab": {
          "base_uri": "https://localhost:8080/"
        },
        "id": "LulMEiFlqljN",
        "outputId": "f2f73c7b-f721-4fca-8219-0fdb554fffaa"
      },
      "execution_count": 2,
      "outputs": [
        {
          "output_type": "stream",
          "name": "stdout",
          "text": [
            "1.21.6\n"
          ]
        }
      ]
    },
    {
      "cell_type": "markdown",
      "source": [
        "3. Create a null vector of size 10 (★☆☆)"
      ],
      "metadata": {
        "id": "AF8hZkoKrKCG"
      }
    },
    {
      "cell_type": "code",
      "source": [
        "n = 10\n",
        "a_3 = np.zeros(n)"
      ],
      "metadata": {
        "colab": {
          "base_uri": "https://localhost:8080/"
        },
        "id": "sse9gqPLqner",
        "outputId": "d32438a1-7a52-492c-a643-c24214fdb87c"
      },
      "execution_count": 4,
      "outputs": [
        {
          "name": "stdout",
          "output_type": "stream",
          "text": [
            "5\n"
          ]
        },
        {
          "output_type": "execute_result",
          "data": {
            "text/plain": [
              "array([0., 0., 0., 0., 0.])"
            ]
          },
          "metadata": {},
          "execution_count": 4
        }
      ]
    },
    {
      "cell_type": "markdown",
      "source": [
        "4. How to find the memory size of any array (★☆☆)"
      ],
      "metadata": {
        "id": "n29aGz3Drfgd"
      }
    },
    {
      "cell_type": "code",
      "source": [
        "res_3 = a_3.nbytes\n"
      ],
      "metadata": {
        "colab": {
          "base_uri": "https://localhost:8080/"
        },
        "id": "Y7g0wUNpqngx",
        "outputId": "4dbe1fea-59f5-4360-c4c6-594f5a369bfc"
      },
      "execution_count": 7,
      "outputs": [
        {
          "output_type": "stream",
          "name": "stdout",
          "text": [
            "160\n"
          ]
        }
      ]
    },
    {
      "cell_type": "markdown",
      "source": [
        "5. How to get the documentation of the numpy add function from the command line? (★☆☆)\n"
      ],
      "metadata": {
        "id": "rCGaBihOrj7E"
      }
    },
    {
      "cell_type": "code",
      "source": [
        "res_5 = [np.info(np.add), np.info(np.array)]"
      ],
      "metadata": {
        "id": "mvLSeWykqnjP"
      },
      "execution_count": null,
      "outputs": []
    },
    {
      "cell_type": "markdown",
      "source": [
        "6. Create a null vector of size 10 but the fifth value which is 1 (★☆☆)"
      ],
      "metadata": {
        "id": "lueMQo2frq8y"
      }
    },
    {
      "cell_type": "code",
      "source": [
        "n = 10\n",
        "a_6 = np.zeros(n)\n",
        "a_6[4] = 1"
      ],
      "metadata": {
        "id": "FtajVw0sqnlX"
      },
      "execution_count": 105,
      "outputs": []
    },
    {
      "cell_type": "markdown",
      "source": [
        "7. Create a vector with values ranging from 10 to 49 (★☆☆)"
      ],
      "metadata": {
        "id": "F_V8PCpisJDm"
      }
    },
    {
      "cell_type": "code",
      "source": [
        "n = 10\n",
        "m = 49\n",
        "a_7 = np.arange(n, m+1)\n"
      ],
      "metadata": {
        "id": "PIVPd8Yiqnne"
      },
      "execution_count": 106,
      "outputs": []
    },
    {
      "cell_type": "markdown",
      "source": [
        "8. Reverse a vector (first element becomes last) (★☆☆)\n"
      ],
      "metadata": {
        "id": "TE0NE5sssfFt"
      }
    },
    {
      "cell_type": "code",
      "source": [
        "a_8 = a_7[::-1]"
      ],
      "metadata": {
        "id": "p0UT8O3Iqnpo"
      },
      "execution_count": 108,
      "outputs": []
    },
    {
      "cell_type": "markdown",
      "source": [
        "9. Create a 3x3 matrix with values ranging from 0 to 8 (★☆☆)"
      ],
      "metadata": {
        "id": "XNwWA8x7sm8Y"
      }
    },
    {
      "cell_type": "code",
      "source": [
        "a_9 = np.arange(9)\n",
        "a_9 = np.reshape(a_9, (3, 3))\n",
        "a_9"
      ],
      "metadata": {
        "colab": {
          "base_uri": "https://localhost:8080/"
        },
        "id": "R4SdfUu3qnsB",
        "outputId": "3e21d0fc-65ce-443d-b9f5-1ac01208e164"
      },
      "execution_count": 109,
      "outputs": [
        {
          "output_type": "execute_result",
          "data": {
            "text/plain": [
              "array([[0, 1, 2],\n",
              "       [3, 4, 5],\n",
              "       [6, 7, 8]])"
            ]
          },
          "metadata": {},
          "execution_count": 109
        }
      ]
    },
    {
      "cell_type": "markdown",
      "source": [
        "10. Find indices of non-zero elements from [1,2,0,0,4,0] (★☆☆)"
      ],
      "metadata": {
        "id": "TrD_VQr2tD48"
      }
    },
    {
      "cell_type": "code",
      "source": [
        "a_10 = [1,2,0,0,4,0]\n",
        "res_10 = np.nonzero(a_10)\n",
        "res_10[0]\n"
      ],
      "metadata": {
        "colab": {
          "base_uri": "https://localhost:8080/"
        },
        "id": "T6L9cUQTqntv",
        "outputId": "3a1236b4-f1fd-43f2-9949-7797a8e94b5d"
      },
      "execution_count": 42,
      "outputs": [
        {
          "output_type": "stream",
          "name": "stdout",
          "text": [
            "[0 1 4]\n"
          ]
        },
        {
          "output_type": "execute_result",
          "data": {
            "text/plain": [
              "array([0, 1, 4])"
            ]
          },
          "metadata": {},
          "execution_count": 42
        }
      ]
    },
    {
      "cell_type": "markdown",
      "source": [
        "11. Create a 3x3 identity matrix (★☆☆)"
      ],
      "metadata": {
        "id": "CchswCWJvQyy"
      }
    },
    {
      "cell_type": "code",
      "source": [
        "a_11 = np.identity(3)\n",
        "a_11"
      ],
      "metadata": {
        "colab": {
          "base_uri": "https://localhost:8080/"
        },
        "id": "8_ccIfknu8Nb",
        "outputId": "694ca0f3-20f6-46bd-b68a-c905e24b1824"
      },
      "execution_count": 43,
      "outputs": [
        {
          "output_type": "execute_result",
          "data": {
            "text/plain": [
              "array([[1., 0., 0.],\n",
              "       [0., 1., 0.],\n",
              "       [0., 0., 1.]])"
            ]
          },
          "metadata": {},
          "execution_count": 43
        }
      ]
    },
    {
      "cell_type": "markdown",
      "source": [
        "12. Create a 3x3x3 array with random values (★☆☆)"
      ],
      "metadata": {
        "id": "hdu3dnpixp8k"
      }
    },
    {
      "cell_type": "code",
      "source": [
        "a_12 = np.random.random((3,3,3))\n",
        "a_12"
      ],
      "metadata": {
        "id": "kMAmjwMFxqaL"
      },
      "execution_count": null,
      "outputs": []
    },
    {
      "cell_type": "markdown",
      "source": [
        "13. Create a 10x10 array with random values and find the minimum and maximum values (★☆☆)"
      ],
      "metadata": {
        "id": "4p524QQRyZiL"
      }
    },
    {
      "cell_type": "code",
      "source": [
        "a_13 = np.random.random((10,10))\n",
        "f'min: {np.min(a_13)}, max: {np.max(a_13)}'"
      ],
      "metadata": {
        "colab": {
          "base_uri": "https://localhost:8080/",
          "height": 35
        },
        "id": "rDxhEQ-nyah5",
        "outputId": "c7906be7-1064-4f2a-dbeb-c92f490d9942"
      },
      "execution_count": 48,
      "outputs": [
        {
          "output_type": "execute_result",
          "data": {
            "text/plain": [
              "'min: 0.02218857906047811, max: 0.998736621823363'"
            ],
            "application/vnd.google.colaboratory.intrinsic+json": {
              "type": "string"
            }
          },
          "metadata": {},
          "execution_count": 48
        }
      ]
    },
    {
      "cell_type": "markdown",
      "source": [
        "14. Create a random vector of size 30 and find the mean value (★☆☆)"
      ],
      "metadata": {
        "id": "LChad5YNy7ql"
      }
    },
    {
      "cell_type": "code",
      "source": [
        "a_14 = np.random.random(14)\n",
        "a_14.mean()"
      ],
      "metadata": {
        "colab": {
          "base_uri": "https://localhost:8080/"
        },
        "id": "HJupwBpey833",
        "outputId": "156d3d93-4027-47e3-a993-66581aeae112"
      },
      "execution_count": 51,
      "outputs": [
        {
          "output_type": "execute_result",
          "data": {
            "text/plain": [
              "0.4317770069387917"
            ]
          },
          "metadata": {},
          "execution_count": 51
        }
      ]
    },
    {
      "cell_type": "markdown",
      "source": [
        "15. Create a 2d array with 1 on the border and 0 inside (★☆☆)"
      ],
      "metadata": {
        "id": "YF-gil6kzJQZ"
      }
    },
    {
      "cell_type": "code",
      "source": [
        "a_15 = np.zeros((10,10))\n",
        "a_15[0] = 1\n",
        "a_15[-1] = 1\n",
        "a_15[:, 0] = 1\n",
        "a_15[:, -1] = 1\n",
        "a_15"
      ],
      "metadata": {
        "colab": {
          "base_uri": "https://localhost:8080/"
        },
        "id": "4Z04q1vqzRkU",
        "outputId": "988f8528-c1fe-469e-a27e-bb226997d9b5"
      },
      "execution_count": 71,
      "outputs": [
        {
          "output_type": "execute_result",
          "data": {
            "text/plain": [
              "array([[1., 1., 1., 1., 1., 1., 1., 1., 1., 1.],\n",
              "       [1., 0., 0., 0., 0., 0., 0., 0., 0., 1.],\n",
              "       [1., 0., 0., 0., 0., 0., 0., 0., 0., 1.],\n",
              "       [1., 0., 0., 0., 0., 0., 0., 0., 0., 1.],\n",
              "       [1., 0., 0., 0., 0., 0., 0., 0., 0., 1.],\n",
              "       [1., 0., 0., 0., 0., 0., 0., 0., 0., 1.],\n",
              "       [1., 0., 0., 0., 0., 0., 0., 0., 0., 1.],\n",
              "       [1., 0., 0., 0., 0., 0., 0., 0., 0., 1.],\n",
              "       [1., 0., 0., 0., 0., 0., 0., 0., 0., 1.],\n",
              "       [1., 1., 1., 1., 1., 1., 1., 1., 1., 1.]])"
            ]
          },
          "metadata": {},
          "execution_count": 71
        }
      ]
    },
    {
      "cell_type": "markdown",
      "source": [
        "16. How to add a border (filled with 0's) around an existing array? (★☆☆)"
      ],
      "metadata": {
        "id": "kphVJgU90tIc"
      }
    },
    {
      "cell_type": "code",
      "source": [
        "a_16 = np.pad(a_15,(1,1), mode='constant')\n",
        "a_16"
      ],
      "metadata": {
        "colab": {
          "base_uri": "https://localhost:8080/"
        },
        "id": "l3q2DMYC0wUX",
        "outputId": "6d989b60-06d2-4c2c-a963-6d5051d39522"
      },
      "execution_count": 78,
      "outputs": [
        {
          "output_type": "execute_result",
          "data": {
            "text/plain": [
              "array([[0., 0., 0., 0., 0., 0., 0., 0., 0., 0., 0., 0.],\n",
              "       [0., 1., 1., 1., 1., 1., 1., 1., 1., 1., 1., 0.],\n",
              "       [0., 1., 0., 0., 0., 0., 0., 0., 0., 0., 1., 0.],\n",
              "       [0., 1., 0., 0., 0., 0., 0., 0., 0., 0., 1., 0.],\n",
              "       [0., 1., 0., 0., 0., 0., 0., 0., 0., 0., 1., 0.],\n",
              "       [0., 1., 0., 0., 0., 0., 0., 0., 0., 0., 1., 0.],\n",
              "       [0., 1., 0., 0., 0., 0., 0., 0., 0., 0., 1., 0.],\n",
              "       [0., 1., 0., 0., 0., 0., 0., 0., 0., 0., 1., 0.],\n",
              "       [0., 1., 0., 0., 0., 0., 0., 0., 0., 0., 1., 0.],\n",
              "       [0., 1., 0., 0., 0., 0., 0., 0., 0., 0., 1., 0.],\n",
              "       [0., 1., 1., 1., 1., 1., 1., 1., 1., 1., 1., 0.],\n",
              "       [0., 0., 0., 0., 0., 0., 0., 0., 0., 0., 0., 0.]])"
            ]
          },
          "metadata": {},
          "execution_count": 78
        }
      ]
    },
    {
      "cell_type": "markdown",
      "source": [
        "17. What is the result of the following expression? (★☆☆)<br>\n",
        "0 * np.nan<br>\n",
        "np.nan == np.nan<br>\n",
        "np.inf > np.nan<br>\n",
        "np.nan - np.nan<br>\n",
        "np.nan in set([np.nan])<br>\n",
        " 0.3 == 3 * 0.1<br>"
      ],
      "metadata": {
        "id": "TP-ivD372YMZ"
      }
    },
    {
      "cell_type": "code",
      "source": [
        "0 * np.nan\n",
        "np.nan == np.nan\n",
        "np.inf > np.nan\n",
        "np.nan - np.nan\n",
        "np.nan in set([np.nan])\n",
        "0.3 == 3 * 0.1"
      ],
      "metadata": {
        "colab": {
          "base_uri": "https://localhost:8080/"
        },
        "id": "aOf7otCX2waJ",
        "outputId": "ca346133-57ff-4f00-dfcc-3b260355fd30"
      },
      "execution_count": 79,
      "outputs": [
        {
          "output_type": "execute_result",
          "data": {
            "text/plain": [
              "False"
            ]
          },
          "metadata": {},
          "execution_count": 79
        }
      ]
    },
    {
      "cell_type": "markdown",
      "source": [
        "18. Create a 5x5 matrix with values 1,2,3,4 just below the diagonal (★☆☆)"
      ],
      "metadata": {
        "id": "zsbJUhBV28_w"
      }
    },
    {
      "cell_type": "code",
      "source": [
        "a_18 = np.diagflat([1, 2, 3, 4], -1)\n",
        "a_18"
      ],
      "metadata": {
        "colab": {
          "base_uri": "https://localhost:8080/"
        },
        "id": "WyYNn2FK2btr",
        "outputId": "4134d4f6-5e6a-4fe1-ec1c-a5588e5e26ae"
      },
      "execution_count": 82,
      "outputs": [
        {
          "output_type": "execute_result",
          "data": {
            "text/plain": [
              "array([[0, 0, 0, 0, 0],\n",
              "       [1, 0, 0, 0, 0],\n",
              "       [0, 2, 0, 0, 0],\n",
              "       [0, 0, 3, 0, 0],\n",
              "       [0, 0, 0, 4, 0]])"
            ]
          },
          "metadata": {},
          "execution_count": 82
        }
      ]
    },
    {
      "cell_type": "markdown",
      "source": [
        "19. Create a 8x8 matrix and fill it with a checkerboard pattern (★☆☆)"
      ],
      "metadata": {
        "id": "TKEGdAvA37AK"
      }
    },
    {
      "cell_type": "code",
      "source": [
        "a_19 = np.ones((8, 8))\n",
        "a_19[::2, ::2] = 0\n",
        "a_19[1::2,1::2] = 0\n",
        "a_19"
      ],
      "metadata": {
        "colab": {
          "base_uri": "https://localhost:8080/"
        },
        "id": "5Kk1LR-036UY",
        "outputId": "6712e838-de73-4325-aded-827e4c97e282"
      },
      "execution_count": 84,
      "outputs": [
        {
          "output_type": "execute_result",
          "data": {
            "text/plain": [
              "array([[0., 1., 0., 1., 0., 1., 0., 1.],\n",
              "       [1., 0., 1., 0., 1., 0., 1., 0.],\n",
              "       [0., 1., 0., 1., 0., 1., 0., 1.],\n",
              "       [1., 0., 1., 0., 1., 0., 1., 0.],\n",
              "       [0., 1., 0., 1., 0., 1., 0., 1.],\n",
              "       [1., 0., 1., 0., 1., 0., 1., 0.],\n",
              "       [0., 1., 0., 1., 0., 1., 0., 1.],\n",
              "       [1., 0., 1., 0., 1., 0., 1., 0.]])"
            ]
          },
          "metadata": {},
          "execution_count": 84
        }
      ]
    },
    {
      "cell_type": "markdown",
      "source": [
        "20. Consider a (6,7,8) shape array, what is the index (x,y,z) of the 100th element? (★☆☆)\n"
      ],
      "metadata": {
        "id": "QK6J13Ny4aBy"
      }
    },
    {
      "cell_type": "code",
      "source": [
        "a_20 = np.array((6,7,8))\n",
        "res_20 = np.unravel_index(100, (6, 7, 8))\n",
        "res_20"
      ],
      "metadata": {
        "colab": {
          "base_uri": "https://localhost:8080/"
        },
        "id": "llRfse-Q4cH_",
        "outputId": "042c3331-b63b-48fb-9794-d7db83863165"
      },
      "execution_count": 101,
      "outputs": [
        {
          "output_type": "execute_result",
          "data": {
            "text/plain": [
              "(1, 5, 4)"
            ]
          },
          "metadata": {},
          "execution_count": 101
        }
      ]
    }
  ]
}