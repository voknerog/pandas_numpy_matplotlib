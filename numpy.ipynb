{
  "nbformat": 4,
  "nbformat_minor": 0,
  "metadata": {
    "colab": {
      "provenance": [],
      "collapsed_sections": [],
      "authorship_tag": "ABX9TyNQty+QMbUtKW8cTRC8SFSv",
      "include_colab_link": true
    },
    "kernelspec": {
      "name": "python3",
      "display_name": "Python 3"
    },
    "language_info": {
      "name": "python"
    }
  },
  "cells": [
    {
      "cell_type": "markdown",
      "metadata": {
        "id": "view-in-github",
        "colab_type": "text"
      },
      "source": [
        "<a href=\"https://colab.research.google.com/github/voknerog/pandas_numpy_matplotlib/blob/colab/numpy.ipynb\" target=\"_parent\"><img src=\"https://colab.research.google.com/assets/colab-badge.svg\" alt=\"Open In Colab\"/></a>"
      ]
    },
    {
      "cell_type": "markdown",
      "source": [
        "1. Import the numpy package under the name np (★☆☆)"
      ],
      "metadata": {
        "id": "3bNqOVxcrArV"
      }
    },
    {
      "cell_type": "code",
      "execution_count": 1,
      "metadata": {
        "id": "Vf6rQgZWqdJR"
      },
      "outputs": [],
      "source": [
        "import numpy as np"
      ]
    },
    {
      "cell_type": "markdown",
      "source": [
        "2. Print the numpy version and the configuration (★☆☆)"
      ],
      "metadata": {
        "id": "BKuUJbUdrFcT"
      }
    },
    {
      "cell_type": "code",
      "source": [
        "print(np.__version__)"
      ],
      "metadata": {
        "colab": {
          "base_uri": "https://localhost:8080/"
        },
        "id": "LulMEiFlqljN",
        "outputId": "1612dc98-b28f-43d9-bd03-3080f9b31a6f"
      },
      "execution_count": 2,
      "outputs": [
        {
          "output_type": "stream",
          "name": "stdout",
          "text": [
            "1.21.6\n"
          ]
        }
      ]
    },
    {
      "cell_type": "markdown",
      "source": [
        "3. Create a null vector of size 10 (★☆☆)"
      ],
      "metadata": {
        "id": "AF8hZkoKrKCG"
      }
    },
    {
      "cell_type": "code",
      "source": [
        "n = 10\n",
        "A = np.zeros(n)"
      ],
      "metadata": {
        "id": "sse9gqPLqner"
      },
      "execution_count": 3,
      "outputs": []
    },
    {
      "cell_type": "markdown",
      "source": [
        "4. How to find the memory size of any array (★☆☆)"
      ],
      "metadata": {
        "id": "n29aGz3Drfgd"
      }
    },
    {
      "cell_type": "code",
      "source": [
        "print(A.nbytes)\n"
      ],
      "metadata": {
        "colab": {
          "base_uri": "https://localhost:8080/"
        },
        "id": "Y7g0wUNpqngx",
        "outputId": "f238459d-580e-4a09-88ae-466fa68aff44"
      },
      "execution_count": 4,
      "outputs": [
        {
          "output_type": "stream",
          "name": "stdout",
          "text": [
            "80\n"
          ]
        }
      ]
    },
    {
      "cell_type": "markdown",
      "source": [
        "5. How to get the documentation of the numpy add function from the command line? (★☆☆)\n"
      ],
      "metadata": {
        "id": "rCGaBihOrj7E"
      }
    },
    {
      "cell_type": "code",
      "source": [
        "np.info(np.add)\n",
        "np.info(np.array)"
      ],
      "metadata": {
        "id": "mvLSeWykqnjP",
        "outputId": "2ffc713d-6f8a-4bd1-8093-96f9fb3a7fb8",
        "colab": {
          "base_uri": "https://localhost:8080/"
        }
      },
      "execution_count": 5,
      "outputs": [
        {
          "output_type": "stream",
          "name": "stdout",
          "text": [
            "add(x1, x2, /, out=None, *, where=True, casting='same_kind', order='K', dtype=None, subok=True[, signature, extobj])\n",
            "\n",
            "Add arguments element-wise.\n",
            "\n",
            "Parameters\n",
            "----------\n",
            "x1, x2 : array_like\n",
            "    The arrays to be added.\n",
            "    If ``x1.shape != x2.shape``, they must be broadcastable to a common\n",
            "    shape (which becomes the shape of the output).\n",
            "out : ndarray, None, or tuple of ndarray and None, optional\n",
            "    A location into which the result is stored. If provided, it must have\n",
            "    a shape that the inputs broadcast to. If not provided or None,\n",
            "    a freshly-allocated array is returned. A tuple (possible only as a\n",
            "    keyword argument) must have length equal to the number of outputs.\n",
            "where : array_like, optional\n",
            "    This condition is broadcast over the input. At locations where the\n",
            "    condition is True, the `out` array will be set to the ufunc result.\n",
            "    Elsewhere, the `out` array will retain its original value.\n",
            "    Note that if an uninitialized `out` array is created via the default\n",
            "    ``out=None``, locations within it where the condition is False will\n",
            "    remain uninitialized.\n",
            "**kwargs\n",
            "    For other keyword-only arguments, see the\n",
            "    :ref:`ufunc docs <ufuncs.kwargs>`.\n",
            "\n",
            "Returns\n",
            "-------\n",
            "add : ndarray or scalar\n",
            "    The sum of `x1` and `x2`, element-wise.\n",
            "    This is a scalar if both `x1` and `x2` are scalars.\n",
            "\n",
            "Notes\n",
            "-----\n",
            "Equivalent to `x1` + `x2` in terms of array broadcasting.\n",
            "\n",
            "Examples\n",
            "--------\n",
            ">>> np.add(1.0, 4.0)\n",
            "5.0\n",
            ">>> x1 = np.arange(9.0).reshape((3, 3))\n",
            ">>> x2 = np.arange(3.0)\n",
            ">>> np.add(x1, x2)\n",
            "array([[  0.,   2.,   4.],\n",
            "       [  3.,   5.,   7.],\n",
            "       [  6.,   8.,  10.]])\n",
            "\n",
            "The ``+`` operator can be used as a shorthand for ``np.add`` on ndarrays.\n",
            "\n",
            ">>> x1 = np.arange(9.0).reshape((3, 3))\n",
            ">>> x2 = np.arange(3.0)\n",
            ">>> x1 + x2\n",
            "array([[ 0.,  2.,  4.],\n",
            "       [ 3.,  5.,  7.],\n",
            "       [ 6.,  8., 10.]])\n",
            "array(object, dtype=None, *, copy=True, order='K', subok=False, ndmin=0,\n",
            "      like=None)\n",
            "\n",
            "Create an array.\n",
            "\n",
            "Parameters\n",
            "----------\n",
            "object : array_like\n",
            "    An array, any object exposing the array interface, an object whose\n",
            "    __array__ method returns an array, or any (nested) sequence.\n",
            "dtype : data-type, optional\n",
            "    The desired data-type for the array.  If not given, then the type will\n",
            "    be determined as the minimum type required to hold the objects in the\n",
            "    sequence.\n",
            "copy : bool, optional\n",
            "    If true (default), then the object is copied.  Otherwise, a copy will\n",
            "    only be made if __array__ returns a copy, if obj is a nested sequence,\n",
            "    or if a copy is needed to satisfy any of the other requirements\n",
            "    (`dtype`, `order`, etc.).\n",
            "order : {'K', 'A', 'C', 'F'}, optional\n",
            "    Specify the memory layout of the array. If object is not an array, the\n",
            "    newly created array will be in C order (row major) unless 'F' is\n",
            "    specified, in which case it will be in Fortran order (column major).\n",
            "    If object is an array the following holds.\n",
            "\n",
            "    ===== ========= ===================================================\n",
            "    order  no copy                     copy=True\n",
            "    ===== ========= ===================================================\n",
            "    'K'   unchanged F & C order preserved, otherwise most similar order\n",
            "    'A'   unchanged F order if input is F and not C, otherwise C order\n",
            "    'C'   C order   C order\n",
            "    'F'   F order   F order\n",
            "    ===== ========= ===================================================\n",
            "\n",
            "    When ``copy=False`` and a copy is made for other reasons, the result is\n",
            "    the same as if ``copy=True``, with some exceptions for 'A', see the\n",
            "    Notes section. The default order is 'K'.\n",
            "subok : bool, optional\n",
            "    If True, then sub-classes will be passed-through, otherwise\n",
            "    the returned array will be forced to be a base-class array (default).\n",
            "ndmin : int, optional\n",
            "    Specifies the minimum number of dimensions that the resulting\n",
            "    array should have.  Ones will be pre-pended to the shape as\n",
            "    needed to meet this requirement.\n",
            "like : array_like\n",
            "    Reference object to allow the creation of arrays which are not\n",
            "    NumPy arrays. If an array-like passed in as ``like`` supports\n",
            "    the ``__array_function__`` protocol, the result will be defined\n",
            "    by it. In this case, it ensures the creation of an array object\n",
            "    compatible with that passed in via this argument.\n",
            "\n",
            "    .. versionadded:: 1.20.0\n",
            "\n",
            "Returns\n",
            "-------\n",
            "out : ndarray\n",
            "    An array object satisfying the specified requirements.\n",
            "\n",
            "See Also\n",
            "--------\n",
            "empty_like : Return an empty array with shape and type of input.\n",
            "ones_like : Return an array of ones with shape and type of input.\n",
            "zeros_like : Return an array of zeros with shape and type of input.\n",
            "full_like : Return a new array with shape of input filled with value.\n",
            "empty : Return a new uninitialized array.\n",
            "ones : Return a new array setting values to one.\n",
            "zeros : Return a new array setting values to zero.\n",
            "full : Return a new array of given shape filled with value.\n",
            "\n",
            "\n",
            "Notes\n",
            "-----\n",
            "When order is 'A' and `object` is an array in neither 'C' nor 'F' order,\n",
            "and a copy is forced by a change in dtype, then the order of the result is\n",
            "not necessarily 'C' as expected. This is likely a bug.\n",
            "\n",
            "Examples\n",
            "--------\n",
            ">>> np.array([1, 2, 3])\n",
            "array([1, 2, 3])\n",
            "\n",
            "Upcasting:\n",
            "\n",
            ">>> np.array([1, 2, 3.0])\n",
            "array([ 1.,  2.,  3.])\n",
            "\n",
            "More than one dimension:\n",
            "\n",
            ">>> np.array([[1, 2], [3, 4]])\n",
            "array([[1, 2],\n",
            "       [3, 4]])\n",
            "\n",
            "Minimum dimensions 2:\n",
            "\n",
            ">>> np.array([1, 2, 3], ndmin=2)\n",
            "array([[1, 2, 3]])\n",
            "\n",
            "Type provided:\n",
            "\n",
            ">>> np.array([1, 2, 3], dtype=complex)\n",
            "array([ 1.+0.j,  2.+0.j,  3.+0.j])\n",
            "\n",
            "Data-type consisting of more than one element:\n",
            "\n",
            ">>> x = np.array([(1,2),(3,4)],dtype=[('a','<i4'),('b','<i4')])\n",
            ">>> x['a']\n",
            "array([1, 3])\n",
            "\n",
            "Creating an array from sub-classes:\n",
            "\n",
            ">>> np.array(np.mat('1 2; 3 4'))\n",
            "array([[1, 2],\n",
            "       [3, 4]])\n",
            "\n",
            ">>> np.array(np.mat('1 2; 3 4'), subok=True)\n",
            "matrix([[1, 2],\n",
            "        [3, 4]])\n"
          ]
        }
      ]
    },
    {
      "cell_type": "markdown",
      "source": [
        "6. Create a null vector of size 10 but the fifth value which is 1 (★☆☆)"
      ],
      "metadata": {
        "id": "lueMQo2frq8y"
      }
    },
    {
      "cell_type": "code",
      "source": [
        "n = 10\n",
        "A = np.zeros(n)\n",
        "A[4] = 1"
      ],
      "metadata": {
        "id": "FtajVw0sqnlX"
      },
      "execution_count": 6,
      "outputs": []
    },
    {
      "cell_type": "markdown",
      "source": [
        "7. Create a vector with values ranging from 10 to 49 (★☆☆)"
      ],
      "metadata": {
        "id": "F_V8PCpisJDm"
      }
    },
    {
      "cell_type": "code",
      "source": [
        "n = 10\n",
        "m = 49\n",
        "A = np.arange(n, m+1)\n"
      ],
      "metadata": {
        "id": "PIVPd8Yiqnne"
      },
      "execution_count": 7,
      "outputs": []
    },
    {
      "cell_type": "markdown",
      "source": [
        "8. Reverse a vector (first element becomes last) (★☆☆)\n"
      ],
      "metadata": {
        "id": "TE0NE5sssfFt"
      }
    },
    {
      "cell_type": "code",
      "source": [
        "A = A[::-1]"
      ],
      "metadata": {
        "id": "p0UT8O3Iqnpo"
      },
      "execution_count": 8,
      "outputs": []
    },
    {
      "cell_type": "markdown",
      "source": [
        "9. Create a 3x3 matrix with values ranging from 0 to 8 (★☆☆)"
      ],
      "metadata": {
        "id": "XNwWA8x7sm8Y"
      }
    },
    {
      "cell_type": "code",
      "source": [
        "A = np.arange(9)\n",
        "A = np.reshape(A, (3, 3))\n",
        "A"
      ],
      "metadata": {
        "colab": {
          "base_uri": "https://localhost:8080/"
        },
        "id": "R4SdfUu3qnsB",
        "outputId": "c93f7862-25d3-4416-c6a5-a8fc5dbbdb7c"
      },
      "execution_count": 9,
      "outputs": [
        {
          "output_type": "execute_result",
          "data": {
            "text/plain": [
              "array([[0, 1, 2],\n",
              "       [3, 4, 5],\n",
              "       [6, 7, 8]])"
            ]
          },
          "metadata": {},
          "execution_count": 9
        }
      ]
    },
    {
      "cell_type": "markdown",
      "source": [
        "10. Find indices of non-zero elements from [1,2,0,0,4,0] (★☆☆)"
      ],
      "metadata": {
        "id": "TrD_VQr2tD48"
      }
    },
    {
      "cell_type": "code",
      "source": [
        "a_10 = [1,2,0,0,4,0]\n",
        "res_10 = np.nonzero(a_10)\n",
        "res_10[0]\n"
      ],
      "metadata": {
        "colab": {
          "base_uri": "https://localhost:8080/"
        },
        "id": "T6L9cUQTqntv",
        "outputId": "6693a0bb-8cc7-4fa1-db67-3c7d8d30769f"
      },
      "execution_count": 10,
      "outputs": [
        {
          "output_type": "execute_result",
          "data": {
            "text/plain": [
              "array([0, 1, 4])"
            ]
          },
          "metadata": {},
          "execution_count": 10
        }
      ]
    },
    {
      "cell_type": "markdown",
      "source": [
        "11. Create a 3x3 identity matrix (★☆☆)"
      ],
      "metadata": {
        "id": "CchswCWJvQyy"
      }
    },
    {
      "cell_type": "code",
      "source": [
        "a_11 = np.identity(3)\n",
        "a_11"
      ],
      "metadata": {
        "colab": {
          "base_uri": "https://localhost:8080/"
        },
        "id": "8_ccIfknu8Nb",
        "outputId": "1c3d5ed9-6d8f-428e-a6f7-ee7db501bcee"
      },
      "execution_count": 11,
      "outputs": [
        {
          "output_type": "execute_result",
          "data": {
            "text/plain": [
              "array([[1., 0., 0.],\n",
              "       [0., 1., 0.],\n",
              "       [0., 0., 1.]])"
            ]
          },
          "metadata": {},
          "execution_count": 11
        }
      ]
    },
    {
      "cell_type": "markdown",
      "source": [
        "12. Create a 3x3x3 array with random values (★☆☆)"
      ],
      "metadata": {
        "id": "hdu3dnpixp8k"
      }
    },
    {
      "cell_type": "code",
      "source": [
        "a_12 = np.random.random((3,3,3))\n",
        "a_12"
      ],
      "metadata": {
        "id": "kMAmjwMFxqaL",
        "outputId": "a0288628-173c-4c51-d0bc-7d260decdc1b",
        "colab": {
          "base_uri": "https://localhost:8080/"
        }
      },
      "execution_count": 12,
      "outputs": [
        {
          "output_type": "execute_result",
          "data": {
            "text/plain": [
              "array([[[0.54880434, 0.93102314, 0.30283282],\n",
              "        [0.59572449, 0.77740138, 0.36419015],\n",
              "        [0.65305365, 0.81499092, 0.92364921]],\n",
              "\n",
              "       [[0.43713931, 0.68580208, 0.65089363],\n",
              "        [0.88547247, 0.29527867, 0.61208937],\n",
              "        [0.98334645, 0.66564903, 0.46251476]],\n",
              "\n",
              "       [[0.73443951, 0.92578945, 0.09269123],\n",
              "        [0.60224561, 0.77901165, 0.65207166],\n",
              "        [0.44136327, 0.19164109, 0.60768587]]])"
            ]
          },
          "metadata": {},
          "execution_count": 12
        }
      ]
    },
    {
      "cell_type": "markdown",
      "source": [
        "13. Create a 10x10 array with random values and find the minimum and maximum values (★☆☆)"
      ],
      "metadata": {
        "id": "4p524QQRyZiL"
      }
    },
    {
      "cell_type": "code",
      "source": [
        "a_13 = np.random.random((10,10))\n",
        "f'min: {np.min(a_13)}, max: {np.max(a_13)}'"
      ],
      "metadata": {
        "colab": {
          "base_uri": "https://localhost:8080/",
          "height": 35
        },
        "id": "rDxhEQ-nyah5",
        "outputId": "33274e86-783c-4155-a371-5531614028f4"
      },
      "execution_count": 13,
      "outputs": [
        {
          "output_type": "execute_result",
          "data": {
            "text/plain": [
              "'min: 0.0045084892157432055, max: 0.9879378449342937'"
            ],
            "application/vnd.google.colaboratory.intrinsic+json": {
              "type": "string"
            }
          },
          "metadata": {},
          "execution_count": 13
        }
      ]
    },
    {
      "cell_type": "markdown",
      "source": [
        "14. Create a random vector of size 30 and find the mean value (★☆☆)"
      ],
      "metadata": {
        "id": "LChad5YNy7ql"
      }
    },
    {
      "cell_type": "code",
      "source": [
        "a_14 = np.random.random(14)\n",
        "a_14.mean()"
      ],
      "metadata": {
        "colab": {
          "base_uri": "https://localhost:8080/"
        },
        "id": "HJupwBpey833",
        "outputId": "2b2da9bd-c5ad-4152-cc1d-529c23de847a"
      },
      "execution_count": 14,
      "outputs": [
        {
          "output_type": "execute_result",
          "data": {
            "text/plain": [
              "0.5982388746112567"
            ]
          },
          "metadata": {},
          "execution_count": 14
        }
      ]
    },
    {
      "cell_type": "markdown",
      "source": [
        "15. Create a 2d array with 1 on the border and 0 inside (★☆☆)"
      ],
      "metadata": {
        "id": "YF-gil6kzJQZ"
      }
    },
    {
      "cell_type": "code",
      "source": [
        "a_15 = np.zeros((10,10))\n",
        "a_15[0] = 1\n",
        "a_15[-1] = 1\n",
        "a_15[:, 0] = 1\n",
        "a_15[:, -1] = 1\n",
        "a_15"
      ],
      "metadata": {
        "colab": {
          "base_uri": "https://localhost:8080/"
        },
        "id": "4Z04q1vqzRkU",
        "outputId": "8ab32e40-fe0a-4158-d370-a2f9368a64bf"
      },
      "execution_count": 15,
      "outputs": [
        {
          "output_type": "execute_result",
          "data": {
            "text/plain": [
              "array([[1., 1., 1., 1., 1., 1., 1., 1., 1., 1.],\n",
              "       [1., 0., 0., 0., 0., 0., 0., 0., 0., 1.],\n",
              "       [1., 0., 0., 0., 0., 0., 0., 0., 0., 1.],\n",
              "       [1., 0., 0., 0., 0., 0., 0., 0., 0., 1.],\n",
              "       [1., 0., 0., 0., 0., 0., 0., 0., 0., 1.],\n",
              "       [1., 0., 0., 0., 0., 0., 0., 0., 0., 1.],\n",
              "       [1., 0., 0., 0., 0., 0., 0., 0., 0., 1.],\n",
              "       [1., 0., 0., 0., 0., 0., 0., 0., 0., 1.],\n",
              "       [1., 0., 0., 0., 0., 0., 0., 0., 0., 1.],\n",
              "       [1., 1., 1., 1., 1., 1., 1., 1., 1., 1.]])"
            ]
          },
          "metadata": {},
          "execution_count": 15
        }
      ]
    },
    {
      "cell_type": "markdown",
      "source": [
        "16. How to add a border (filled with 0's) around an existing array? (★☆☆)"
      ],
      "metadata": {
        "id": "kphVJgU90tIc"
      }
    },
    {
      "cell_type": "code",
      "source": [
        "a_16 = np.pad(a_15,(1,1), mode='constant')\n",
        "a_16"
      ],
      "metadata": {
        "colab": {
          "base_uri": "https://localhost:8080/"
        },
        "id": "l3q2DMYC0wUX",
        "outputId": "7a29dcff-86b2-45b8-af82-13542ea6f253"
      },
      "execution_count": 16,
      "outputs": [
        {
          "output_type": "execute_result",
          "data": {
            "text/plain": [
              "array([[0., 0., 0., 0., 0., 0., 0., 0., 0., 0., 0., 0.],\n",
              "       [0., 1., 1., 1., 1., 1., 1., 1., 1., 1., 1., 0.],\n",
              "       [0., 1., 0., 0., 0., 0., 0., 0., 0., 0., 1., 0.],\n",
              "       [0., 1., 0., 0., 0., 0., 0., 0., 0., 0., 1., 0.],\n",
              "       [0., 1., 0., 0., 0., 0., 0., 0., 0., 0., 1., 0.],\n",
              "       [0., 1., 0., 0., 0., 0., 0., 0., 0., 0., 1., 0.],\n",
              "       [0., 1., 0., 0., 0., 0., 0., 0., 0., 0., 1., 0.],\n",
              "       [0., 1., 0., 0., 0., 0., 0., 0., 0., 0., 1., 0.],\n",
              "       [0., 1., 0., 0., 0., 0., 0., 0., 0., 0., 1., 0.],\n",
              "       [0., 1., 0., 0., 0., 0., 0., 0., 0., 0., 1., 0.],\n",
              "       [0., 1., 1., 1., 1., 1., 1., 1., 1., 1., 1., 0.],\n",
              "       [0., 0., 0., 0., 0., 0., 0., 0., 0., 0., 0., 0.]])"
            ]
          },
          "metadata": {},
          "execution_count": 16
        }
      ]
    },
    {
      "cell_type": "markdown",
      "source": [
        "17. What is the result of the following expression? (★☆☆)<br>\n",
        "0 * np.nan<br>\n",
        "np.nan == np.nan<br>\n",
        "np.inf > np.nan<br>\n",
        "np.nan - np.nan<br>\n",
        "np.nan in set([np.nan])<br>\n",
        " 0.3 == 3 * 0.1<br>"
      ],
      "metadata": {
        "id": "TP-ivD372YMZ"
      }
    },
    {
      "cell_type": "code",
      "source": [
        "0 * np.nan\n",
        "np.nan == np.nan\n",
        "np.inf > np.nan\n",
        "np.nan - np.nan\n",
        "np.nan in set([np.nan])\n",
        "0.3 == 3 * 0.1"
      ],
      "metadata": {
        "colab": {
          "base_uri": "https://localhost:8080/"
        },
        "id": "aOf7otCX2waJ",
        "outputId": "a265a5ba-606d-4ca0-c028-c12690e76159"
      },
      "execution_count": 17,
      "outputs": [
        {
          "output_type": "execute_result",
          "data": {
            "text/plain": [
              "False"
            ]
          },
          "metadata": {},
          "execution_count": 17
        }
      ]
    },
    {
      "cell_type": "markdown",
      "source": [
        "18. Create a 5x5 matrix with values 1,2,3,4 just below the diagonal (★☆☆)"
      ],
      "metadata": {
        "id": "zsbJUhBV28_w"
      }
    },
    {
      "cell_type": "code",
      "source": [
        "a_18 = np.diagflat([1, 2, 3, 4], -1)\n",
        "a_18"
      ],
      "metadata": {
        "colab": {
          "base_uri": "https://localhost:8080/"
        },
        "id": "WyYNn2FK2btr",
        "outputId": "77d12151-3889-4ee6-a7e1-58883fd4d006"
      },
      "execution_count": 18,
      "outputs": [
        {
          "output_type": "execute_result",
          "data": {
            "text/plain": [
              "array([[0, 0, 0, 0, 0],\n",
              "       [1, 0, 0, 0, 0],\n",
              "       [0, 2, 0, 0, 0],\n",
              "       [0, 0, 3, 0, 0],\n",
              "       [0, 0, 0, 4, 0]])"
            ]
          },
          "metadata": {},
          "execution_count": 18
        }
      ]
    },
    {
      "cell_type": "markdown",
      "source": [
        "19. Create a 8x8 matrix and fill it with a checkerboard pattern (★☆☆)"
      ],
      "metadata": {
        "id": "TKEGdAvA37AK"
      }
    },
    {
      "cell_type": "code",
      "source": [
        "a_19 = np.ones((8, 8))\n",
        "a_19[::2, ::2] = 0\n",
        "a_19[1::2,1::2] = 0\n",
        "a_19"
      ],
      "metadata": {
        "colab": {
          "base_uri": "https://localhost:8080/"
        },
        "id": "5Kk1LR-036UY",
        "outputId": "e233602f-7f98-435e-a303-978e96d6fdef"
      },
      "execution_count": 19,
      "outputs": [
        {
          "output_type": "execute_result",
          "data": {
            "text/plain": [
              "array([[0., 1., 0., 1., 0., 1., 0., 1.],\n",
              "       [1., 0., 1., 0., 1., 0., 1., 0.],\n",
              "       [0., 1., 0., 1., 0., 1., 0., 1.],\n",
              "       [1., 0., 1., 0., 1., 0., 1., 0.],\n",
              "       [0., 1., 0., 1., 0., 1., 0., 1.],\n",
              "       [1., 0., 1., 0., 1., 0., 1., 0.],\n",
              "       [0., 1., 0., 1., 0., 1., 0., 1.],\n",
              "       [1., 0., 1., 0., 1., 0., 1., 0.]])"
            ]
          },
          "metadata": {},
          "execution_count": 19
        }
      ]
    },
    {
      "cell_type": "markdown",
      "source": [
        "20. Consider a (6,7,8) shape array, what is the index (x,y,z) of the 100th element? (★☆☆)\n"
      ],
      "metadata": {
        "id": "QK6J13Ny4aBy"
      }
    },
    {
      "cell_type": "code",
      "source": [
        "a_20 = np.array((6,7,8))\n",
        "res_20 = np.unravel_index(100, (6, 7, 8))\n",
        "res_20"
      ],
      "metadata": {
        "colab": {
          "base_uri": "https://localhost:8080/"
        },
        "id": "llRfse-Q4cH_",
        "outputId": "893b7f16-bc55-40d6-e3b6-fd0682e743bd"
      },
      "execution_count": 20,
      "outputs": [
        {
          "output_type": "execute_result",
          "data": {
            "text/plain": [
              "(1, 5, 4)"
            ]
          },
          "metadata": {},
          "execution_count": 20
        }
      ]
    }
  ]
}